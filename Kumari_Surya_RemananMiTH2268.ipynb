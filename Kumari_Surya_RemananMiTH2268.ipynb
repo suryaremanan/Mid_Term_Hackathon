{
 "cells": [
  {
   "cell_type": "markdown",
   "metadata": {},
   "source": [
    "# Problem Statement"
   ]
  },
  {
   "cell_type": "markdown",
   "metadata": {},
   "source": [
    "To predict the Customer value for a retail store based on different quantitative\n",
    "and qualitative features provided.\n",
    "The customer value is a profitability metric in terms of a value placed by the company on each\n",
    "customer and can be conceived in two dimensions: the customer's present Value and potential\n",
    "future Value.\n",
    "A major retail store wants to evaluate customer lvalue in terms of high/medium/low based on each\n",
    "customer’s demographics and purchase information/ sales transactions, to take optimal\n",
    "marketing/promotional decisions and implement appropriate action plans .\n",
    "You are expected to create an analytical and modelling framework to predict customer value of each\n",
    "customer as High/Medium/Low based on the quantitative and qualitative features provided in the\n",
    "dataset."
   ]
  },
  {
   "cell_type": "markdown",
   "metadata": {},
   "source": [
    "Importing some of the libraries"
   ]
  },
  {
   "cell_type": "code",
   "execution_count": 1,
   "metadata": {},
   "outputs": [],
   "source": [
    "import numpy as np\n",
    "import pandas as pd\n",
    "#importing libraries for visualization\n",
    "import seaborn as sns\n",
    "import matplotlib.pyplot as plt\n"
   ]
  },
  {
   "cell_type": "markdown",
   "metadata": {},
   "source": [
    "# Reading the data"
   ]
  },
  {
   "cell_type": "code",
   "execution_count": 2,
   "metadata": {},
   "outputs": [],
   "source": [
    "train=pd.read_csv(\"Train-1546582083062.csv\")"
   ]
  },
  {
   "cell_type": "code",
   "execution_count": 3,
   "metadata": {},
   "outputs": [],
   "source": [
    "test=pd.read_csv(\"Test-1546582100445.csv\")"
   ]
  },
  {
   "cell_type": "code",
   "execution_count": 4,
   "metadata": {},
   "outputs": [],
   "source": [
    "traindemo=pd.read_csv(\"Train_Demographics-1546580051604.csv\")"
   ]
  },
  {
   "cell_type": "code",
   "execution_count": 5,
   "metadata": {},
   "outputs": [],
   "source": [
    "testdemo=pd.read_csv(\"Test_Demographics-1546580080647.csv\")"
   ]
  },
  {
   "cell_type": "code",
   "execution_count": 6,
   "metadata": {},
   "outputs": [],
   "source": [
    "traintransaction=pd.read_csv(\"Train_Transactions-1546579767306.csv\")"
   ]
  },
  {
   "cell_type": "code",
   "execution_count": 7,
   "metadata": {},
   "outputs": [],
   "source": [
    "testtransaction=pd.read_csv(\"Test_Transactions-1546579926795.csv\")"
   ]
  },
  {
   "cell_type": "code",
   "execution_count": 8,
   "metadata": {},
   "outputs": [
    {
     "data": {
      "text/html": [
       "<div>\n",
       "<style scoped>\n",
       "    .dataframe tbody tr th:only-of-type {\n",
       "        vertical-align: middle;\n",
       "    }\n",
       "\n",
       "    .dataframe tbody tr th {\n",
       "        vertical-align: top;\n",
       "    }\n",
       "\n",
       "    .dataframe thead th {\n",
       "        text-align: right;\n",
       "    }\n",
       "</style>\n",
       "<table border=\"1\" class=\"dataframe\">\n",
       "  <thead>\n",
       "    <tr style=\"text-align: right;\">\n",
       "      <th></th>\n",
       "      <th>CustomerId</th>\n",
       "      <th>CustomerValue</th>\n",
       "    </tr>\n",
       "  </thead>\n",
       "  <tbody>\n",
       "    <tr>\n",
       "      <th>0</th>\n",
       "      <td>C22981</td>\n",
       "      <td>High</td>\n",
       "    </tr>\n",
       "    <tr>\n",
       "      <th>1</th>\n",
       "      <td>C28576</td>\n",
       "      <td>Low</td>\n",
       "    </tr>\n",
       "    <tr>\n",
       "      <th>2</th>\n",
       "      <td>C23809</td>\n",
       "      <td>Low</td>\n",
       "    </tr>\n",
       "    <tr>\n",
       "      <th>3</th>\n",
       "      <td>C29339</td>\n",
       "      <td>Low</td>\n",
       "    </tr>\n",
       "    <tr>\n",
       "      <th>4</th>\n",
       "      <td>C30598</td>\n",
       "      <td>Low</td>\n",
       "    </tr>\n",
       "  </tbody>\n",
       "</table>\n",
       "</div>"
      ],
      "text/plain": [
       "  CustomerId CustomerValue\n",
       "0     C22981          High\n",
       "1     C28576           Low\n",
       "2     C23809           Low\n",
       "3     C29339           Low\n",
       "4     C30598           Low"
      ]
     },
     "execution_count": 8,
     "metadata": {},
     "output_type": "execute_result"
    }
   ],
   "source": [
    "train.head()"
   ]
  },
  {
   "cell_type": "code",
   "execution_count": 9,
   "metadata": {},
   "outputs": [
    {
     "data": {
      "text/plain": [
       "(3315, 2)"
      ]
     },
     "execution_count": 9,
     "metadata": {},
     "output_type": "execute_result"
    }
   ],
   "source": [
    "train.shape\n"
   ]
  },
  {
   "cell_type": "code",
   "execution_count": 10,
   "metadata": {},
   "outputs": [
    {
     "data": {
      "text/html": [
       "<div>\n",
       "<style scoped>\n",
       "    .dataframe tbody tr th:only-of-type {\n",
       "        vertical-align: middle;\n",
       "    }\n",
       "\n",
       "    .dataframe tbody tr th {\n",
       "        vertical-align: top;\n",
       "    }\n",
       "\n",
       "    .dataframe thead th {\n",
       "        text-align: right;\n",
       "    }\n",
       "</style>\n",
       "<table border=\"1\" class=\"dataframe\">\n",
       "  <thead>\n",
       "    <tr style=\"text-align: right;\">\n",
       "      <th></th>\n",
       "      <th>CustomerId</th>\n",
       "      <th>DOB</th>\n",
       "      <th>gender</th>\n",
       "      <th>MaritalStatus</th>\n",
       "      <th>Familysize</th>\n",
       "    </tr>\n",
       "  </thead>\n",
       "  <tbody>\n",
       "    <tr>\n",
       "      <th>0</th>\n",
       "      <td>C21117</td>\n",
       "      <td>1985-06-14</td>\n",
       "      <td>M</td>\n",
       "      <td>Yes</td>\n",
       "      <td>4</td>\n",
       "    </tr>\n",
       "    <tr>\n",
       "      <th>1</th>\n",
       "      <td>C21118</td>\n",
       "      <td>1984-11-21</td>\n",
       "      <td>M</td>\n",
       "      <td>Yes</td>\n",
       "      <td>4</td>\n",
       "    </tr>\n",
       "    <tr>\n",
       "      <th>2</th>\n",
       "      <td>C21119</td>\n",
       "      <td>1999-02-01</td>\n",
       "      <td>M</td>\n",
       "      <td>Yes</td>\n",
       "      <td>2</td>\n",
       "    </tr>\n",
       "    <tr>\n",
       "      <th>3</th>\n",
       "      <td>C21121</td>\n",
       "      <td>1973-06-22</td>\n",
       "      <td>F</td>\n",
       "      <td>Yes</td>\n",
       "      <td>4</td>\n",
       "    </tr>\n",
       "    <tr>\n",
       "      <th>4</th>\n",
       "      <td>C21124</td>\n",
       "      <td>1966-01-02</td>\n",
       "      <td>M</td>\n",
       "      <td>Yes</td>\n",
       "      <td>3</td>\n",
       "    </tr>\n",
       "  </tbody>\n",
       "</table>\n",
       "</div>"
      ],
      "text/plain": [
       "  CustomerId         DOB gender MaritalStatus  Familysize\n",
       "0     C21117  1985-06-14      M           Yes           4\n",
       "1     C21118  1984-11-21      M           Yes           4\n",
       "2     C21119  1999-02-01      M           Yes           2\n",
       "3     C21121  1973-06-22      F           Yes           4\n",
       "4     C21124  1966-01-02      M           Yes           3"
      ]
     },
     "execution_count": 10,
     "metadata": {},
     "output_type": "execute_result"
    }
   ],
   "source": [
    "traindemo.head()"
   ]
  },
  {
   "cell_type": "code",
   "execution_count": 11,
   "metadata": {},
   "outputs": [
    {
     "data": {
      "text/plain": [
       "(3315, 5)"
      ]
     },
     "execution_count": 11,
     "metadata": {},
     "output_type": "execute_result"
    }
   ],
   "source": [
    "traindemo.shape\n"
   ]
  },
  {
   "cell_type": "markdown",
   "metadata": {},
   "source": [
    "# Merging the data"
   ]
  },
  {
   "cell_type": "code",
   "execution_count": 12,
   "metadata": {},
   "outputs": [],
   "source": [
    "train=pd.merge(train,traindemo,how=\"left\",on=\"CustomerId\")"
   ]
  },
  {
   "cell_type": "code",
   "execution_count": 13,
   "metadata": {},
   "outputs": [],
   "source": [
    "test=pd.merge(test,testdemo,how=\"left\",on=\"CustomerId\")"
   ]
  },
  {
   "cell_type": "code",
   "execution_count": 14,
   "metadata": {},
   "outputs": [
    {
     "data": {
      "text/plain": [
       "(3315, 6)"
      ]
     },
     "execution_count": 14,
     "metadata": {},
     "output_type": "execute_result"
    }
   ],
   "source": [
    "train.shape"
   ]
  },
  {
   "cell_type": "code",
   "execution_count": 15,
   "metadata": {},
   "outputs": [
    {
     "data": {
      "text/plain": [
       "(940, 5)"
      ]
     },
     "execution_count": 15,
     "metadata": {},
     "output_type": "execute_result"
    }
   ],
   "source": [
    "test.shape"
   ]
  },
  {
   "cell_type": "code",
   "execution_count": 16,
   "metadata": {},
   "outputs": [
    {
     "data": {
      "text/html": [
       "<div>\n",
       "<style scoped>\n",
       "    .dataframe tbody tr th:only-of-type {\n",
       "        vertical-align: middle;\n",
       "    }\n",
       "\n",
       "    .dataframe tbody tr th {\n",
       "        vertical-align: top;\n",
       "    }\n",
       "\n",
       "    .dataframe thead th {\n",
       "        text-align: right;\n",
       "    }\n",
       "</style>\n",
       "<table border=\"1\" class=\"dataframe\">\n",
       "  <thead>\n",
       "    <tr style=\"text-align: right;\">\n",
       "      <th></th>\n",
       "      <th>BillDate</th>\n",
       "      <th>BillNumber</th>\n",
       "      <th>CustomerId</th>\n",
       "      <th>ProductID</th>\n",
       "      <th>Quantity</th>\n",
       "      <th>UnitPrice</th>\n",
       "    </tr>\n",
       "  </thead>\n",
       "  <tbody>\n",
       "    <tr>\n",
       "      <th>0</th>\n",
       "      <td>2013-01-01 8:26</td>\n",
       "      <td>B12551</td>\n",
       "      <td>C25132</td>\n",
       "      <td>PR9338</td>\n",
       "      <td>6</td>\n",
       "      <td>2.55</td>\n",
       "    </tr>\n",
       "    <tr>\n",
       "      <th>1</th>\n",
       "      <td>2013-01-01 8:26</td>\n",
       "      <td>B12551</td>\n",
       "      <td>C25132</td>\n",
       "      <td>PR8754</td>\n",
       "      <td>6</td>\n",
       "      <td>3.39</td>\n",
       "    </tr>\n",
       "    <tr>\n",
       "      <th>2</th>\n",
       "      <td>2013-01-01 8:26</td>\n",
       "      <td>B12551</td>\n",
       "      <td>C25132</td>\n",
       "      <td>PR8953</td>\n",
       "      <td>8</td>\n",
       "      <td>2.75</td>\n",
       "    </tr>\n",
       "    <tr>\n",
       "      <th>3</th>\n",
       "      <td>2013-01-01 8:26</td>\n",
       "      <td>B12551</td>\n",
       "      <td>C25132</td>\n",
       "      <td>PR8905</td>\n",
       "      <td>6</td>\n",
       "      <td>3.39</td>\n",
       "    </tr>\n",
       "    <tr>\n",
       "      <th>4</th>\n",
       "      <td>2013-01-01 8:26</td>\n",
       "      <td>B12551</td>\n",
       "      <td>C25132</td>\n",
       "      <td>PR8904</td>\n",
       "      <td>6</td>\n",
       "      <td>3.39</td>\n",
       "    </tr>\n",
       "  </tbody>\n",
       "</table>\n",
       "</div>"
      ],
      "text/plain": [
       "          BillDate BillNumber CustomerId ProductID  Quantity  UnitPrice\n",
       "0  2013-01-01 8:26     B12551     C25132    PR9338         6       2.55\n",
       "1  2013-01-01 8:26     B12551     C25132    PR8754         6       3.39\n",
       "2  2013-01-01 8:26     B12551     C25132    PR8953         8       2.75\n",
       "3  2013-01-01 8:26     B12551     C25132    PR8905         6       3.39\n",
       "4  2013-01-01 8:26     B12551     C25132    PR8904         6       3.39"
      ]
     },
     "execution_count": 16,
     "metadata": {},
     "output_type": "execute_result"
    }
   ],
   "source": [
    "traintransaction.head()"
   ]
  },
  {
   "cell_type": "code",
   "execution_count": 17,
   "metadata": {},
   "outputs": [],
   "source": [
    "train=pd.merge(train,traintransaction,how=\"left\",on=\"CustomerId\")"
   ]
  },
  {
   "cell_type": "code",
   "execution_count": 18,
   "metadata": {},
   "outputs": [],
   "source": [
    "test=pd.merge(test,testtransaction,how=\"left\",on=\"CustomerId\")"
   ]
  },
  {
   "cell_type": "code",
   "execution_count": 19,
   "metadata": {},
   "outputs": [
    {
     "data": {
      "text/plain": [
       "(320009, 11)"
      ]
     },
     "execution_count": 19,
     "metadata": {},
     "output_type": "execute_result"
    }
   ],
   "source": [
    "train.shape"
   ]
  },
  {
   "cell_type": "code",
   "execution_count": 20,
   "metadata": {},
   "outputs": [
    {
     "data": {
      "text/plain": [
       "(88319, 10)"
      ]
     },
     "execution_count": 20,
     "metadata": {},
     "output_type": "execute_result"
    }
   ],
   "source": [
    "test.shape"
   ]
  },
  {
   "cell_type": "code",
   "execution_count": 21,
   "metadata": {},
   "outputs": [],
   "source": [
    "train.drop_duplicates(subset=\"CustomerId\",keep='last',inplace=True)"
   ]
  },
  {
   "cell_type": "code",
   "execution_count": 22,
   "metadata": {},
   "outputs": [
    {
     "data": {
      "text/plain": [
       "(3315, 11)"
      ]
     },
     "execution_count": 22,
     "metadata": {},
     "output_type": "execute_result"
    }
   ],
   "source": [
    "train.shape"
   ]
  },
  {
   "cell_type": "code",
   "execution_count": 23,
   "metadata": {},
   "outputs": [],
   "source": [
    "test.drop_duplicates(subset=\"CustomerId\",keep='last',inplace=True)"
   ]
  },
  {
   "cell_type": "code",
   "execution_count": 24,
   "metadata": {},
   "outputs": [
    {
     "data": {
      "text/plain": [
       "(940, 10)"
      ]
     },
     "execution_count": 24,
     "metadata": {},
     "output_type": "execute_result"
    }
   ],
   "source": [
    "test.shape"
   ]
  },
  {
   "cell_type": "code",
   "execution_count": 25,
   "metadata": {},
   "outputs": [],
   "source": [
    "test_id=test.CustomerId"
   ]
  },
  {
   "cell_type": "code",
   "execution_count": 26,
   "metadata": {},
   "outputs": [
    {
     "data": {
      "text/plain": [
       "<seaborn.axisgrid.PairGrid at 0x10e16da20>"
      ]
     },
     "execution_count": 26,
     "metadata": {},
     "output_type": "execute_result"
    },
    {
     "data": {
      "image/png": "[encoded data removed]",
      "text/plain": [
       "<Figure size 540x540 with 12 Axes>"
      ]
     },
     "metadata": {
      "needs_background": "light"
     },
     "output_type": "display_data"
    }
   ],
   "source": [
    "sns.pairplot(train)"
   ]
  },
  {
   "cell_type": "code",
   "execution_count": 27,
   "metadata": {},
   "outputs": [
    {
     "data": {
      "text/plain": [
       "Text(0.5, 1.0, 'correlation plot')"
      ]
     },
     "execution_count": 27,
     "metadata": {},
     "output_type": "execute_result"
    },
    {
     "data": {
      "image/png": "[encoded data removed]",
      "text/plain": [
       "<Figure size 432x288 with 2 Axes>"
      ]
     },
     "metadata": {
      "needs_background": "light"
     },
     "output_type": "display_data"
    }
   ],
   "source": [
    "sns.heatmap(train.corr(),cmap='coolwarm')\n",
    "plt.title('correlation plot')"
   ]
  },
  {
   "cell_type": "code",
   "execution_count": 28,
   "metadata": {},
   "outputs": [
    {
     "data": {
      "text/html": [
       "<div>\n",
       "<style scoped>\n",
       "    .dataframe tbody tr th:only-of-type {\n",
       "        vertical-align: middle;\n",
       "    }\n",
       "\n",
       "    .dataframe tbody tr th {\n",
       "        vertical-align: top;\n",
       "    }\n",
       "\n",
       "    .dataframe thead th {\n",
       "        text-align: right;\n",
       "    }\n",
       "</style>\n",
       "<table border=\"1\" class=\"dataframe\">\n",
       "  <thead>\n",
       "    <tr style=\"text-align: right;\">\n",
       "      <th></th>\n",
       "      <th>CustomerId</th>\n",
       "      <th>CustomerValue</th>\n",
       "      <th>DOB</th>\n",
       "      <th>gender</th>\n",
       "      <th>MaritalStatus</th>\n",
       "      <th>Familysize</th>\n",
       "      <th>BillDate</th>\n",
       "      <th>BillNumber</th>\n",
       "      <th>ProductID</th>\n",
       "      <th>Quantity</th>\n",
       "      <th>UnitPrice</th>\n",
       "    </tr>\n",
       "  </thead>\n",
       "  <tbody>\n",
       "    <tr>\n",
       "      <th>72</th>\n",
       "      <td>C22981</td>\n",
       "      <td>High</td>\n",
       "      <td>1990-11-17</td>\n",
       "      <td>F</td>\n",
       "      <td>Yes</td>\n",
       "      <td>4</td>\n",
       "      <td>2013-12-31 12:31</td>\n",
       "      <td>B30240</td>\n",
       "      <td>PR8143</td>\n",
       "      <td>10</td>\n",
       "      <td>2.08</td>\n",
       "    </tr>\n",
       "    <tr>\n",
       "      <th>125</th>\n",
       "      <td>C28576</td>\n",
       "      <td>Low</td>\n",
       "      <td>1991-08-21</td>\n",
       "      <td>F</td>\n",
       "      <td>Yes</td>\n",
       "      <td>3</td>\n",
       "      <td>2013-10-22 10:47</td>\n",
       "      <td>B61518</td>\n",
       "      <td>PR7909</td>\n",
       "      <td>7</td>\n",
       "      <td>2.10</td>\n",
       "    </tr>\n",
       "    <tr>\n",
       "      <th>153</th>\n",
       "      <td>C23809</td>\n",
       "      <td>Low</td>\n",
       "      <td>1999-12-22</td>\n",
       "      <td>F</td>\n",
       "      <td>Yes</td>\n",
       "      <td>2</td>\n",
       "      <td>2013-10-31 14:13</td>\n",
       "      <td>B27622</td>\n",
       "      <td>PR6967</td>\n",
       "      <td>1</td>\n",
       "      <td>1.25</td>\n",
       "    </tr>\n",
       "    <tr>\n",
       "      <th>163</th>\n",
       "      <td>C29339</td>\n",
       "      <td>Low</td>\n",
       "      <td>1996-03-10</td>\n",
       "      <td>M</td>\n",
       "      <td>Yes</td>\n",
       "      <td>2</td>\n",
       "      <td>2013-12-22 13:36</td>\n",
       "      <td>B71800</td>\n",
       "      <td>PR9203</td>\n",
       "      <td>13</td>\n",
       "      <td>1.25</td>\n",
       "    </tr>\n",
       "    <tr>\n",
       "      <th>209</th>\n",
       "      <td>C30598</td>\n",
       "      <td>Low</td>\n",
       "      <td>1996-09-19</td>\n",
       "      <td>F</td>\n",
       "      <td>Yes</td>\n",
       "      <td>2</td>\n",
       "      <td>2013-12-16 11:21</td>\n",
       "      <td>B82113</td>\n",
       "      <td>PR7399</td>\n",
       "      <td>5</td>\n",
       "      <td>12.75</td>\n",
       "    </tr>\n",
       "  </tbody>\n",
       "</table>\n",
       "</div>"
      ],
      "text/plain": [
       "    CustomerId CustomerValue         DOB gender MaritalStatus  Familysize  \\\n",
       "72      C22981          High  1990-11-17      F           Yes           4   \n",
       "125     C28576           Low  1991-08-21      F           Yes           3   \n",
       "153     C23809           Low  1999-12-22      F           Yes           2   \n",
       "163     C29339           Low  1996-03-10      M           Yes           2   \n",
       "209     C30598           Low  1996-09-19      F           Yes           2   \n",
       "\n",
       "             BillDate BillNumber ProductID  Quantity  UnitPrice  \n",
       "72   2013-12-31 12:31     B30240    PR8143        10       2.08  \n",
       "125  2013-10-22 10:47     B61518    PR7909         7       2.10  \n",
       "153  2013-10-31 14:13     B27622    PR6967         1       1.25  \n",
       "163  2013-12-22 13:36     B71800    PR9203        13       1.25  \n",
       "209  2013-12-16 11:21     B82113    PR7399         5      12.75  "
      ]
     },
     "execution_count": 28,
     "metadata": {},
     "output_type": "execute_result"
    }
   ],
   "source": [
    "train.head()"
   ]
  },
  {
   "cell_type": "markdown",
   "metadata": {},
   "source": [
    "Splitting DOB into day,month,year"
   ]
  },
  {
   "cell_type": "code",
   "execution_count": 29,
   "metadata": {},
   "outputs": [],
   "source": [
    "train['DOB'] = pd.to_datetime(train['DOB'], errors='coerce')\n",
    "train['YOB'] = train['DOB'].dt.year\n",
    "train['MOB'] = train['DOB'].dt.month\n",
    "train['DtOB'] = train['DOB'].dt.day\n",
    "train.drop(\"DOB\",axis=1,inplace=True)"
   ]
  },
  {
   "cell_type": "code",
   "execution_count": 30,
   "metadata": {},
   "outputs": [],
   "source": [
    "test['DOB'] = pd.to_datetime(test['DOB'], errors='coerce')\n",
    "test['YOB'] = test['DOB'].dt.year\n",
    "test['MOB'] = test['DOB'].dt.month\n",
    "test['DtOB'] = test['DOB'].dt.day\n",
    "test.drop(\"DOB\",axis=1,inplace=True)"
   ]
  },
  {
   "cell_type": "code",
   "execution_count": 31,
   "metadata": {},
   "outputs": [
    {
     "data": {
      "text/html": [
       "<div>\n",
       "<style scoped>\n",
       "    .dataframe tbody tr th:only-of-type {\n",
       "        vertical-align: middle;\n",
       "    }\n",
       "\n",
       "    .dataframe tbody tr th {\n",
       "        vertical-align: top;\n",
       "    }\n",
       "\n",
       "    .dataframe thead th {\n",
       "        text-align: right;\n",
       "    }\n",
       "</style>\n",
       "<table border=\"1\" class=\"dataframe\">\n",
       "  <thead>\n",
       "    <tr style=\"text-align: right;\">\n",
       "      <th></th>\n",
       "      <th>CustomerId</th>\n",
       "      <th>CustomerValue</th>\n",
       "      <th>gender</th>\n",
       "      <th>MaritalStatus</th>\n",
       "      <th>Familysize</th>\n",
       "      <th>BillDate</th>\n",
       "      <th>BillNumber</th>\n",
       "      <th>ProductID</th>\n",
       "      <th>Quantity</th>\n",
       "      <th>UnitPrice</th>\n",
       "      <th>YOB</th>\n",
       "      <th>MOB</th>\n",
       "      <th>DtOB</th>\n",
       "    </tr>\n",
       "  </thead>\n",
       "  <tbody>\n",
       "    <tr>\n",
       "      <th>72</th>\n",
       "      <td>C22981</td>\n",
       "      <td>High</td>\n",
       "      <td>F</td>\n",
       "      <td>Yes</td>\n",
       "      <td>4</td>\n",
       "      <td>2013-12-31 12:31</td>\n",
       "      <td>B30240</td>\n",
       "      <td>PR8143</td>\n",
       "      <td>10</td>\n",
       "      <td>2.08</td>\n",
       "      <td>1990</td>\n",
       "      <td>11</td>\n",
       "      <td>17</td>\n",
       "    </tr>\n",
       "    <tr>\n",
       "      <th>125</th>\n",
       "      <td>C28576</td>\n",
       "      <td>Low</td>\n",
       "      <td>F</td>\n",
       "      <td>Yes</td>\n",
       "      <td>3</td>\n",
       "      <td>2013-10-22 10:47</td>\n",
       "      <td>B61518</td>\n",
       "      <td>PR7909</td>\n",
       "      <td>7</td>\n",
       "      <td>2.10</td>\n",
       "      <td>1991</td>\n",
       "      <td>8</td>\n",
       "      <td>21</td>\n",
       "    </tr>\n",
       "    <tr>\n",
       "      <th>153</th>\n",
       "      <td>C23809</td>\n",
       "      <td>Low</td>\n",
       "      <td>F</td>\n",
       "      <td>Yes</td>\n",
       "      <td>2</td>\n",
       "      <td>2013-10-31 14:13</td>\n",
       "      <td>B27622</td>\n",
       "      <td>PR6967</td>\n",
       "      <td>1</td>\n",
       "      <td>1.25</td>\n",
       "      <td>1999</td>\n",
       "      <td>12</td>\n",
       "      <td>22</td>\n",
       "    </tr>\n",
       "    <tr>\n",
       "      <th>163</th>\n",
       "      <td>C29339</td>\n",
       "      <td>Low</td>\n",
       "      <td>M</td>\n",
       "      <td>Yes</td>\n",
       "      <td>2</td>\n",
       "      <td>2013-12-22 13:36</td>\n",
       "      <td>B71800</td>\n",
       "      <td>PR9203</td>\n",
       "      <td>13</td>\n",
       "      <td>1.25</td>\n",
       "      <td>1996</td>\n",
       "      <td>3</td>\n",
       "      <td>10</td>\n",
       "    </tr>\n",
       "    <tr>\n",
       "      <th>209</th>\n",
       "      <td>C30598</td>\n",
       "      <td>Low</td>\n",
       "      <td>F</td>\n",
       "      <td>Yes</td>\n",
       "      <td>2</td>\n",
       "      <td>2013-12-16 11:21</td>\n",
       "      <td>B82113</td>\n",
       "      <td>PR7399</td>\n",
       "      <td>5</td>\n",
       "      <td>12.75</td>\n",
       "      <td>1996</td>\n",
       "      <td>9</td>\n",
       "      <td>19</td>\n",
       "    </tr>\n",
       "  </tbody>\n",
       "</table>\n",
       "</div>"
      ],
      "text/plain": [
       "    CustomerId CustomerValue gender MaritalStatus  Familysize  \\\n",
       "72      C22981          High      F           Yes           4   \n",
       "125     C28576           Low      F           Yes           3   \n",
       "153     C23809           Low      F           Yes           2   \n",
       "163     C29339           Low      M           Yes           2   \n",
       "209     C30598           Low      F           Yes           2   \n",
       "\n",
       "             BillDate BillNumber ProductID  Quantity  UnitPrice   YOB  MOB  \\\n",
       "72   2013-12-31 12:31     B30240    PR8143        10       2.08  1990   11   \n",
       "125  2013-10-22 10:47     B61518    PR7909         7       2.10  1991    8   \n",
       "153  2013-10-31 14:13     B27622    PR6967         1       1.25  1999   12   \n",
       "163  2013-12-22 13:36     B71800    PR9203        13       1.25  1996    3   \n",
       "209  2013-12-16 11:21     B82113    PR7399         5      12.75  1996    9   \n",
       "\n",
       "     DtOB  \n",
       "72     17  \n",
       "125    21  \n",
       "153    22  \n",
       "163    10  \n",
       "209    19  "
      ]
     },
     "execution_count": 31,
     "metadata": {},
     "output_type": "execute_result"
    }
   ],
   "source": [
    "train.head()"
   ]
  },
  {
   "cell_type": "markdown",
   "metadata": {},
   "source": [
    "Dropping unwanted columns"
   ]
  },
  {
   "cell_type": "code",
   "execution_count": 32,
   "metadata": {},
   "outputs": [],
   "source": [
    "droplist=[\"CustomerId\",\"BillNumber\",'ProductID',\"BillDate\"]\n",
    "train.drop(droplist,axis=1,inplace=True)"
   ]
  },
  {
   "cell_type": "code",
   "execution_count": 33,
   "metadata": {},
   "outputs": [],
   "source": [
    "test.drop(droplist,axis=1,inplace=True)"
   ]
  },
  {
   "cell_type": "code",
   "execution_count": 34,
   "metadata": {},
   "outputs": [
    {
     "data": {
      "text/html": [
       "<div>\n",
       "<style scoped>\n",
       "    .dataframe tbody tr th:only-of-type {\n",
       "        vertical-align: middle;\n",
       "    }\n",
       "\n",
       "    .dataframe tbody tr th {\n",
       "        vertical-align: top;\n",
       "    }\n",
       "\n",
       "    .dataframe thead th {\n",
       "        text-align: right;\n",
       "    }\n",
       "</style>\n",
       "<table border=\"1\" class=\"dataframe\">\n",
       "  <thead>\n",
       "    <tr style=\"text-align: right;\">\n",
       "      <th></th>\n",
       "      <th>CustomerValue</th>\n",
       "      <th>gender</th>\n",
       "      <th>MaritalStatus</th>\n",
       "      <th>Familysize</th>\n",
       "      <th>Quantity</th>\n",
       "      <th>UnitPrice</th>\n",
       "      <th>YOB</th>\n",
       "      <th>MOB</th>\n",
       "      <th>DtOB</th>\n",
       "    </tr>\n",
       "  </thead>\n",
       "  <tbody>\n",
       "    <tr>\n",
       "      <th>72</th>\n",
       "      <td>High</td>\n",
       "      <td>F</td>\n",
       "      <td>Yes</td>\n",
       "      <td>4</td>\n",
       "      <td>10</td>\n",
       "      <td>2.08</td>\n",
       "      <td>1990</td>\n",
       "      <td>11</td>\n",
       "      <td>17</td>\n",
       "    </tr>\n",
       "    <tr>\n",
       "      <th>125</th>\n",
       "      <td>Low</td>\n",
       "      <td>F</td>\n",
       "      <td>Yes</td>\n",
       "      <td>3</td>\n",
       "      <td>7</td>\n",
       "      <td>2.10</td>\n",
       "      <td>1991</td>\n",
       "      <td>8</td>\n",
       "      <td>21</td>\n",
       "    </tr>\n",
       "    <tr>\n",
       "      <th>153</th>\n",
       "      <td>Low</td>\n",
       "      <td>F</td>\n",
       "      <td>Yes</td>\n",
       "      <td>2</td>\n",
       "      <td>1</td>\n",
       "      <td>1.25</td>\n",
       "      <td>1999</td>\n",
       "      <td>12</td>\n",
       "      <td>22</td>\n",
       "    </tr>\n",
       "    <tr>\n",
       "      <th>163</th>\n",
       "      <td>Low</td>\n",
       "      <td>M</td>\n",
       "      <td>Yes</td>\n",
       "      <td>2</td>\n",
       "      <td>13</td>\n",
       "      <td>1.25</td>\n",
       "      <td>1996</td>\n",
       "      <td>3</td>\n",
       "      <td>10</td>\n",
       "    </tr>\n",
       "    <tr>\n",
       "      <th>209</th>\n",
       "      <td>Low</td>\n",
       "      <td>F</td>\n",
       "      <td>Yes</td>\n",
       "      <td>2</td>\n",
       "      <td>5</td>\n",
       "      <td>12.75</td>\n",
       "      <td>1996</td>\n",
       "      <td>9</td>\n",
       "      <td>19</td>\n",
       "    </tr>\n",
       "  </tbody>\n",
       "</table>\n",
       "</div>"
      ],
      "text/plain": [
       "    CustomerValue gender MaritalStatus  Familysize  Quantity  UnitPrice   YOB  \\\n",
       "72           High      F           Yes           4        10       2.08  1990   \n",
       "125           Low      F           Yes           3         7       2.10  1991   \n",
       "153           Low      F           Yes           2         1       1.25  1999   \n",
       "163           Low      M           Yes           2        13       1.25  1996   \n",
       "209           Low      F           Yes           2         5      12.75  1996   \n",
       "\n",
       "     MOB  DtOB  \n",
       "72    11    17  \n",
       "125    8    21  \n",
       "153   12    22  \n",
       "163    3    10  \n",
       "209    9    19  "
      ]
     },
     "execution_count": 34,
     "metadata": {},
     "output_type": "execute_result"
    }
   ],
   "source": [
    "train.head()"
   ]
  },
  {
   "cell_type": "markdown",
   "metadata": {},
   "source": [
    "Encoding the categorical values"
   ]
  },
  {
   "cell_type": "code",
   "execution_count": 35,
   "metadata": {},
   "outputs": [],
   "source": [
    "categ=[\"CustomerValue\",\"gender\",\"MaritalStatus\"]"
   ]
  },
  {
   "cell_type": "code",
   "execution_count": 36,
   "metadata": {},
   "outputs": [],
   "source": [
    "import collections\n",
    "from sklearn.preprocessing import LabelEncoder, OneHotEncoder\n",
    "\n",
    "# Encode Categorical Data\n",
    "\n",
    "for ft in categ:\n",
    "    le = LabelEncoder()\n",
    "    train[ft] = le.fit_transform(train[ft])"
   ]
  },
  {
   "cell_type": "code",
   "execution_count": 37,
   "metadata": {},
   "outputs": [
    {
     "data": {
      "text/html": [
       "<div>\n",
       "<style scoped>\n",
       "    .dataframe tbody tr th:only-of-type {\n",
       "        vertical-align: middle;\n",
       "    }\n",
       "\n",
       "    .dataframe tbody tr th {\n",
       "        vertical-align: top;\n",
       "    }\n",
       "\n",
       "    .dataframe thead th {\n",
       "        text-align: right;\n",
       "    }\n",
       "</style>\n",
       "<table border=\"1\" class=\"dataframe\">\n",
       "  <thead>\n",
       "    <tr style=\"text-align: right;\">\n",
       "      <th></th>\n",
       "      <th>CustomerValue</th>\n",
       "      <th>gender</th>\n",
       "      <th>MaritalStatus</th>\n",
       "      <th>Familysize</th>\n",
       "      <th>Quantity</th>\n",
       "      <th>UnitPrice</th>\n",
       "      <th>YOB</th>\n",
       "      <th>MOB</th>\n",
       "      <th>DtOB</th>\n",
       "    </tr>\n",
       "  </thead>\n",
       "  <tbody>\n",
       "    <tr>\n",
       "      <th>72</th>\n",
       "      <td>0</td>\n",
       "      <td>0</td>\n",
       "      <td>1</td>\n",
       "      <td>4</td>\n",
       "      <td>10</td>\n",
       "      <td>2.08</td>\n",
       "      <td>1990</td>\n",
       "      <td>11</td>\n",
       "      <td>17</td>\n",
       "    </tr>\n",
       "    <tr>\n",
       "      <th>125</th>\n",
       "      <td>1</td>\n",
       "      <td>0</td>\n",
       "      <td>1</td>\n",
       "      <td>3</td>\n",
       "      <td>7</td>\n",
       "      <td>2.10</td>\n",
       "      <td>1991</td>\n",
       "      <td>8</td>\n",
       "      <td>21</td>\n",
       "    </tr>\n",
       "    <tr>\n",
       "      <th>153</th>\n",
       "      <td>1</td>\n",
       "      <td>0</td>\n",
       "      <td>1</td>\n",
       "      <td>2</td>\n",
       "      <td>1</td>\n",
       "      <td>1.25</td>\n",
       "      <td>1999</td>\n",
       "      <td>12</td>\n",
       "      <td>22</td>\n",
       "    </tr>\n",
       "    <tr>\n",
       "      <th>163</th>\n",
       "      <td>1</td>\n",
       "      <td>1</td>\n",
       "      <td>1</td>\n",
       "      <td>2</td>\n",
       "      <td>13</td>\n",
       "      <td>1.25</td>\n",
       "      <td>1996</td>\n",
       "      <td>3</td>\n",
       "      <td>10</td>\n",
       "    </tr>\n",
       "    <tr>\n",
       "      <th>209</th>\n",
       "      <td>1</td>\n",
       "      <td>0</td>\n",
       "      <td>1</td>\n",
       "      <td>2</td>\n",
       "      <td>5</td>\n",
       "      <td>12.75</td>\n",
       "      <td>1996</td>\n",
       "      <td>9</td>\n",
       "      <td>19</td>\n",
       "    </tr>\n",
       "  </tbody>\n",
       "</table>\n",
       "</div>"
      ],
      "text/plain": [
       "     CustomerValue  gender  MaritalStatus  Familysize  Quantity  UnitPrice  \\\n",
       "72               0       0              1           4        10       2.08   \n",
       "125              1       0              1           3         7       2.10   \n",
       "153              1       0              1           2         1       1.25   \n",
       "163              1       1              1           2        13       1.25   \n",
       "209              1       0              1           2         5      12.75   \n",
       "\n",
       "      YOB  MOB  DtOB  \n",
       "72   1990   11    17  \n",
       "125  1991    8    21  \n",
       "153  1999   12    22  \n",
       "163  1996    3    10  \n",
       "209  1996    9    19  "
      ]
     },
     "execution_count": 37,
     "metadata": {},
     "output_type": "execute_result"
    }
   ],
   "source": [
    "train.head()"
   ]
  },
  {
   "cell_type": "code",
   "execution_count": 38,
   "metadata": {},
   "outputs": [],
   "source": [
    "categ2=[\"gender\",\"MaritalStatus\"]"
   ]
  },
  {
   "cell_type": "code",
   "execution_count": 39,
   "metadata": {},
   "outputs": [],
   "source": [
    "for ft in categ2:\n",
    "    le = LabelEncoder()\n",
    "    test[ft] = le.fit_transform(test[ft])"
   ]
  },
  {
   "cell_type": "markdown",
   "metadata": {},
   "source": [
    "# Train Test Split"
   ]
  },
  {
   "cell_type": "code",
   "execution_count": 40,
   "metadata": {},
   "outputs": [],
   "source": [
    "from sklearn.model_selection import train_test_split\n",
    "\n",
    "Y = train['CustomerValue']\n",
    "X = train.drop('CustomerValue', axis=1)"
   ]
  },
  {
   "cell_type": "code",
   "execution_count": 41,
   "metadata": {},
   "outputs": [],
   "source": [
    "X_train, X_test, Y_train, Y_test = train_test_split(X,Y, test_size=0.33, random_state=10)"
   ]
  },
  {
   "cell_type": "markdown",
   "metadata": {},
   "source": [
    "# Algorithm 1: Gradient Boosting"
   ]
  },
  {
   "cell_type": "code",
   "execution_count": 42,
   "metadata": {},
   "outputs": [
    {
     "name": "stdout",
     "output_type": "stream",
     "text": [
      "0.6224862888482633\n"
     ]
    }
   ],
   "source": [
    "from sklearn.ensemble import GradientBoostingClassifier\n",
    "from sklearn.metrics import accuracy_score\n",
    "\n",
    "gbmodel = GradientBoostingClassifier(n_estimators= 200, max_depth= 7)\n",
    "gbmodel.fit(X_train,Y_train)\n",
    "\n",
    "val_predict =gbmodel.predict(X_test)\n",
    "\n",
    "accu = accuracy_score(Y_test,val_predict)\n",
    "print(accu)"
   ]
  },
  {
   "cell_type": "code",
   "execution_count": 43,
   "metadata": {},
   "outputs": [],
   "source": [
    "prediction=gbmodel.predict(test)"
   ]
  },
  {
   "cell_type": "code",
   "execution_count": 44,
   "metadata": {},
   "outputs": [
    {
     "data": {
      "text/plain": [
       "array([2, 0, 2, 0, 2, 2, 0, 0, 2, 2, 2, 2, 2, 0, 2, 2, 2, 0, 0, 0, 0, 0,\n",
       "       2, 2, 2, 0, 0, 0, 0, 0, 2, 2, 2, 2, 2, 2, 0, 2, 0, 0, 0, 2, 2, 0,\n",
       "       2, 2, 2, 0, 2, 2, 1, 1, 0, 2, 2, 0, 2, 2, 0, 0, 0, 0, 1, 1, 0, 0,\n",
       "       2, 2, 0, 0, 2, 0, 2, 1, 2, 2, 0, 0, 2, 2, 0, 0, 2, 1, 0, 2, 2, 2,\n",
       "       0, 2, 2, 2, 2, 2, 0, 0, 2, 0, 2, 2, 2, 2, 0, 1, 0, 2, 1, 0, 1, 2,\n",
       "       2, 2, 2, 2, 0, 0, 2, 2, 0, 0, 0, 2, 2, 1, 0, 0, 2, 0, 0, 2, 2, 2,\n",
       "       0, 0, 2, 2, 2, 0, 0, 0, 2, 2, 1, 0, 2, 0, 0, 1, 2, 0, 2, 1, 0, 1,\n",
       "       1, 2, 1, 2, 0, 0, 1, 0, 0, 2, 1, 2, 2, 0, 1, 0, 1, 0, 2, 1, 2, 0,\n",
       "       2, 0, 2, 1, 2, 0, 0, 2, 2, 2, 2, 2, 0, 2, 1, 2, 2, 2, 2, 1, 1, 2,\n",
       "       0, 2, 2, 2, 1, 1, 1, 2, 2, 0, 2, 0, 2, 2, 1, 1, 0, 1, 2, 1, 0, 0,\n",
       "       0, 2, 1, 2, 1, 2, 1, 2, 2, 2, 0, 0, 1, 0, 0, 1, 0, 0, 0, 0, 2, 0,\n",
       "       1, 1, 0, 2, 2, 0, 2, 1, 0, 2, 2, 0, 2, 2, 1, 2, 0, 1, 0, 2, 0, 1,\n",
       "       0, 0, 1, 0, 1, 2, 1, 1, 1, 2, 1, 0, 2, 2, 0, 2, 0, 2, 2, 2, 2, 0,\n",
       "       1, 2, 2, 1, 2, 0, 2, 0, 1, 0, 1, 2, 0, 1, 1, 2, 2, 2, 2, 2, 2, 2,\n",
       "       2, 0, 0, 2, 2, 2, 0, 2, 2, 2, 2, 2, 2, 1, 2, 2, 2, 2, 1, 1, 2, 1,\n",
       "       2, 2, 2, 0, 0, 2, 2, 1, 0, 2, 2, 0, 2, 2, 2, 2, 2, 2, 2, 2, 1, 2,\n",
       "       1, 2, 1, 1, 0, 1, 2, 2, 2, 2, 2, 2, 0, 1, 1, 2, 2, 2, 1, 0, 2, 2,\n",
       "       1, 2, 2, 0, 2, 2, 1, 2, 2, 1, 0, 2, 0, 1, 0, 0, 1, 1, 2, 0, 0, 2,\n",
       "       1, 2, 2, 0, 0, 2, 2, 2, 1, 2, 1, 2, 1, 2, 1, 2, 2, 1, 0, 2, 0, 0,\n",
       "       0, 1, 2, 2, 1, 0, 0, 1, 2, 2, 1, 0, 2, 1, 1, 2, 2, 0, 0, 1, 2, 2,\n",
       "       1, 1, 2, 1, 1, 2, 0, 1, 2, 0, 2, 0, 1, 0, 1, 1, 2, 2, 1, 2, 2, 0,\n",
       "       2, 2, 1, 2, 2, 2, 2, 0, 0, 0, 0, 2, 2, 2, 0, 0, 1, 2, 0, 1, 2, 1,\n",
       "       0, 0, 0, 0, 2, 0, 1, 1, 1, 2, 0, 1, 2, 2, 2, 0, 1, 1, 2, 2, 0, 0,\n",
       "       2, 1, 1, 1, 2, 2, 0, 2, 0, 1, 2, 0, 0, 1, 1, 1, 1, 1, 1, 1, 2, 1,\n",
       "       1, 1, 1, 1, 1, 1, 1, 1, 1, 1, 1, 1, 1, 1, 1, 2, 1, 1, 1, 1, 1, 1,\n",
       "       1, 1, 1, 1, 1, 1, 1, 1, 1, 1, 1, 1, 1, 1, 1, 0, 1, 1, 1, 1, 1, 1,\n",
       "       1, 1, 1, 1, 1, 1, 1, 1, 1, 1, 1, 1, 1, 1, 0, 1, 1, 1, 1, 1, 1, 2,\n",
       "       1, 1, 1, 1, 2, 1, 1, 1, 1, 1, 1, 1, 1, 1, 1, 0, 1, 1, 1, 1, 1, 1,\n",
       "       1, 1, 1, 1, 1, 1, 1, 1, 1, 1, 1, 1, 1, 1, 1, 1, 1, 1, 1, 1, 1, 1,\n",
       "       1, 1, 1, 1, 1, 0, 1, 1, 1, 1, 1, 1, 1, 1, 1, 1, 1, 1, 1, 2, 1, 1,\n",
       "       1, 1, 1, 1, 1, 1, 1, 1, 1, 1, 1, 1, 1, 1, 1, 1, 1, 1, 1, 1, 1, 1,\n",
       "       1, 1, 1, 1, 1, 1, 1, 1, 1, 1, 1, 1, 1, 1, 1, 1, 1, 1, 1, 1, 1, 1,\n",
       "       1, 1, 1, 1, 1, 1, 1, 1, 1, 1, 1, 1, 1, 1, 1, 1, 1, 1, 1, 1, 1, 1,\n",
       "       1, 1, 1, 1, 1, 1, 1, 1, 1, 1, 1, 1, 1, 1, 1, 1, 0, 1, 1, 1, 1, 1,\n",
       "       1, 1, 1, 1, 1, 1, 1, 1, 1, 1, 1, 1, 1, 1, 1, 0, 1, 1, 1, 1, 1, 1,\n",
       "       1, 2, 1, 1, 1, 1, 1, 1, 1, 1, 1, 1, 1, 1, 1, 1, 1, 1, 1, 1, 1, 1,\n",
       "       1, 1, 1, 1, 1, 1, 1, 1, 1, 1, 1, 1, 1, 1, 1, 1, 1, 1, 1, 1, 1, 1,\n",
       "       1, 1, 1, 1, 1, 1, 1, 1, 1, 0, 1, 1, 1, 1, 1, 2, 1, 2, 1, 1, 2, 1,\n",
       "       2, 2, 1, 0, 1, 2, 1, 1, 2, 1, 2, 0, 1, 0, 1, 0, 1, 0, 0, 2, 0, 2,\n",
       "       0, 1, 1, 0, 2, 1, 1, 2, 2, 1, 2, 1, 1, 2, 1, 2, 2, 1, 0, 1, 2, 1,\n",
       "       1, 2, 1, 2, 0, 1, 0, 1, 0, 1, 0, 0, 2, 0, 2, 0, 1, 1, 0, 2, 1, 1,\n",
       "       2, 2, 1, 2, 1, 1, 2, 1, 2, 2, 1, 0, 1, 2, 1, 1, 2, 1, 2, 0, 1, 0,\n",
       "       1, 0, 1, 0, 0, 2, 0, 2, 0, 1, 1, 0, 2, 1, 1, 2])"
      ]
     },
     "execution_count": 44,
     "metadata": {},
     "output_type": "execute_result"
    }
   ],
   "source": [
    "prediction"
   ]
  },
  {
   "cell_type": "code",
   "execution_count": 45,
   "metadata": {},
   "outputs": [],
   "source": [
    "i=0\n",
    "pred = []\n",
    "for arr in prediction:\n",
    "    if prediction[i]==0:\n",
    "        pred.append('High')\n",
    "    elif prediction[i]== 1:\n",
    "        pred.append('Low')\n",
    "    elif prediction[i] == 2:\n",
    "        pred.append(\"Medium\")\n",
    "    i = i+1"
   ]
  },
  {
   "cell_type": "code",
   "execution_count": 46,
   "metadata": {},
   "outputs": [
    {
     "data": {
      "text/plain": [
       "['Medium',\n",
       " 'High',\n",
       " 'Medium',\n",
       " 'High',\n",
       " 'Medium',\n",
       " 'Medium',\n",
       " 'High',\n",
       " 'High',\n",
       " 'Medium',\n",
       " 'Medium',\n",
       " 'Medium',\n",
       " 'Medium',\n",
       " 'Medium',\n",
       " 'High',\n",
       " 'Medium',\n",
       " 'Medium',\n",
       " 'Medium',\n",
       " 'High',\n",
       " 'High',\n",
       " 'High',\n",
       " 'High',\n",
       " 'High',\n",
       " 'Medium',\n",
       " 'Medium',\n",
       " 'Medium',\n",
       " 'High',\n",
       " 'High',\n",
       " 'High',\n",
       " 'High',\n",
       " 'High',\n",
       " 'Medium',\n",
       " 'Medium',\n",
       " 'Medium',\n",
       " 'Medium',\n",
       " 'Medium',\n",
       " 'Medium',\n",
       " 'High',\n",
       " 'Medium',\n",
       " 'High',\n",
       " 'High',\n",
       " 'High',\n",
       " 'Medium',\n",
       " 'Medium',\n",
       " 'High',\n",
       " 'Medium',\n",
       " 'Medium',\n",
       " 'Medium',\n",
       " 'High',\n",
       " 'Medium',\n",
       " 'Medium',\n",
       " 'Low',\n",
       " 'Low',\n",
       " 'High',\n",
       " 'Medium',\n",
       " 'Medium',\n",
       " 'High',\n",
       " 'Medium',\n",
       " 'Medium',\n",
       " 'High',\n",
       " 'High',\n",
       " 'High',\n",
       " 'High',\n",
       " 'Low',\n",
       " 'Low',\n",
       " 'High',\n",
       " 'High',\n",
       " 'Medium',\n",
       " 'Medium',\n",
       " 'High',\n",
       " 'High',\n",
       " 'Medium',\n",
       " 'High',\n",
       " 'Medium',\n",
       " 'Low',\n",
       " 'Medium',\n",
       " 'Medium',\n",
       " 'High',\n",
       " 'High',\n",
       " 'Medium',\n",
       " 'Medium',\n",
       " 'High',\n",
       " 'High',\n",
       " 'Medium',\n",
       " 'Low',\n",
       " 'High',\n",
       " 'Medium',\n",
       " 'Medium',\n",
       " 'Medium',\n",
       " 'High',\n",
       " 'Medium',\n",
       " 'Medium',\n",
       " 'Medium',\n",
       " 'Medium',\n",
       " 'Medium',\n",
       " 'High',\n",
       " 'High',\n",
       " 'Medium',\n",
       " 'High',\n",
       " 'Medium',\n",
       " 'Medium',\n",
       " 'Medium',\n",
       " 'Medium',\n",
       " 'High',\n",
       " 'Low',\n",
       " 'High',\n",
       " 'Medium',\n",
       " 'Low',\n",
       " 'High',\n",
       " 'Low',\n",
       " 'Medium',\n",
       " 'Medium',\n",
       " 'Medium',\n",
       " 'Medium',\n",
       " 'Medium',\n",
       " 'High',\n",
       " 'High',\n",
       " 'Medium',\n",
       " 'Medium',\n",
       " 'High',\n",
       " 'High',\n",
       " 'High',\n",
       " 'Medium',\n",
       " 'Medium',\n",
       " 'Low',\n",
       " 'High',\n",
       " 'High',\n",
       " 'Medium',\n",
       " 'High',\n",
       " 'High',\n",
       " 'Medium',\n",
       " 'Medium',\n",
       " 'Medium',\n",
       " 'High',\n",
       " 'High',\n",
       " 'Medium',\n",
       " 'Medium',\n",
       " 'Medium',\n",
       " 'High',\n",
       " 'High',\n",
       " 'High',\n",
       " 'Medium',\n",
       " 'Medium',\n",
       " 'Low',\n",
       " 'High',\n",
       " 'Medium',\n",
       " 'High',\n",
       " 'High',\n",
       " 'Low',\n",
       " 'Medium',\n",
       " 'High',\n",
       " 'Medium',\n",
       " 'Low',\n",
       " 'High',\n",
       " 'Low',\n",
       " 'Low',\n",
       " 'Medium',\n",
       " 'Low',\n",
       " 'Medium',\n",
       " 'High',\n",
       " 'High',\n",
       " 'Low',\n",
       " 'High',\n",
       " 'High',\n",
       " 'Medium',\n",
       " 'Low',\n",
       " 'Medium',\n",
       " 'Medium',\n",
       " 'High',\n",
       " 'Low',\n",
       " 'High',\n",
       " 'Low',\n",
       " 'High',\n",
       " 'Medium',\n",
       " 'Low',\n",
       " 'Medium',\n",
       " 'High',\n",
       " 'Medium',\n",
       " 'High',\n",
       " 'Medium',\n",
       " 'Low',\n",
       " 'Medium',\n",
       " 'High',\n",
       " 'High',\n",
       " 'Medium',\n",
       " 'Medium',\n",
       " 'Medium',\n",
       " 'Medium',\n",
       " 'Medium',\n",
       " 'High',\n",
       " 'Medium',\n",
       " 'Low',\n",
       " 'Medium',\n",
       " 'Medium',\n",
       " 'Medium',\n",
       " 'Medium',\n",
       " 'Low',\n",
       " 'Low',\n",
       " 'Medium',\n",
       " 'High',\n",
       " 'Medium',\n",
       " 'Medium',\n",
       " 'Medium',\n",
       " 'Low',\n",
       " 'Low',\n",
       " 'Low',\n",
       " 'Medium',\n",
       " 'Medium',\n",
       " 'High',\n",
       " 'Medium',\n",
       " 'High',\n",
       " 'Medium',\n",
       " 'Medium',\n",
       " 'Low',\n",
       " 'Low',\n",
       " 'High',\n",
       " 'Low',\n",
       " 'Medium',\n",
       " 'Low',\n",
       " 'High',\n",
       " 'High',\n",
       " 'High',\n",
       " 'Medium',\n",
       " 'Low',\n",
       " 'Medium',\n",
       " 'Low',\n",
       " 'Medium',\n",
       " 'Low',\n",
       " 'Medium',\n",
       " 'Medium',\n",
       " 'Medium',\n",
       " 'High',\n",
       " 'High',\n",
       " 'Low',\n",
       " 'High',\n",
       " 'High',\n",
       " 'Low',\n",
       " 'High',\n",
       " 'High',\n",
       " 'High',\n",
       " 'High',\n",
       " 'Medium',\n",
       " 'High',\n",
       " 'Low',\n",
       " 'Low',\n",
       " 'High',\n",
       " 'Medium',\n",
       " 'Medium',\n",
       " 'High',\n",
       " 'Medium',\n",
       " 'Low',\n",
       " 'High',\n",
       " 'Medium',\n",
       " 'Medium',\n",
       " 'High',\n",
       " 'Medium',\n",
       " 'Medium',\n",
       " 'Low',\n",
       " 'Medium',\n",
       " 'High',\n",
       " 'Low',\n",
       " 'High',\n",
       " 'Medium',\n",
       " 'High',\n",
       " 'Low',\n",
       " 'High',\n",
       " 'High',\n",
       " 'Low',\n",
       " 'High',\n",
       " 'Low',\n",
       " 'Medium',\n",
       " 'Low',\n",
       " 'Low',\n",
       " 'Low',\n",
       " 'Medium',\n",
       " 'Low',\n",
       " 'High',\n",
       " 'Medium',\n",
       " 'Medium',\n",
       " 'High',\n",
       " 'Medium',\n",
       " 'High',\n",
       " 'Medium',\n",
       " 'Medium',\n",
       " 'Medium',\n",
       " 'Medium',\n",
       " 'High',\n",
       " 'Low',\n",
       " 'Medium',\n",
       " 'Medium',\n",
       " 'Low',\n",
       " 'Medium',\n",
       " 'High',\n",
       " 'Medium',\n",
       " 'High',\n",
       " 'Low',\n",
       " 'High',\n",
       " 'Low',\n",
       " 'Medium',\n",
       " 'High',\n",
       " 'Low',\n",
       " 'Low',\n",
       " 'Medium',\n",
       " 'Medium',\n",
       " 'Medium',\n",
       " 'Medium',\n",
       " 'Medium',\n",
       " 'Medium',\n",
       " 'Medium',\n",
       " 'Medium',\n",
       " 'High',\n",
       " 'High',\n",
       " 'Medium',\n",
       " 'Medium',\n",
       " 'Medium',\n",
       " 'High',\n",
       " 'Medium',\n",
       " 'Medium',\n",
       " 'Medium',\n",
       " 'Medium',\n",
       " 'Medium',\n",
       " 'Medium',\n",
       " 'Low',\n",
       " 'Medium',\n",
       " 'Medium',\n",
       " 'Medium',\n",
       " 'Medium',\n",
       " 'Low',\n",
       " 'Low',\n",
       " 'Medium',\n",
       " 'Low',\n",
       " 'Medium',\n",
       " 'Medium',\n",
       " 'Medium',\n",
       " 'High',\n",
       " 'High',\n",
       " 'Medium',\n",
       " 'Medium',\n",
       " 'Low',\n",
       " 'High',\n",
       " 'Medium',\n",
       " 'Medium',\n",
       " 'High',\n",
       " 'Medium',\n",
       " 'Medium',\n",
       " 'Medium',\n",
       " 'Medium',\n",
       " 'Medium',\n",
       " 'Medium',\n",
       " 'Medium',\n",
       " 'Medium',\n",
       " 'Low',\n",
       " 'Medium',\n",
       " 'Low',\n",
       " 'Medium',\n",
       " 'Low',\n",
       " 'Low',\n",
       " 'High',\n",
       " 'Low',\n",
       " 'Medium',\n",
       " 'Medium',\n",
       " 'Medium',\n",
       " 'Medium',\n",
       " 'Medium',\n",
       " 'Medium',\n",
       " 'High',\n",
       " 'Low',\n",
       " 'Low',\n",
       " 'Medium',\n",
       " 'Medium',\n",
       " 'Medium',\n",
       " 'Low',\n",
       " 'High',\n",
       " 'Medium',\n",
       " 'Medium',\n",
       " 'Low',\n",
       " 'Medium',\n",
       " 'Medium',\n",
       " 'High',\n",
       " 'Medium',\n",
       " 'Medium',\n",
       " 'Low',\n",
       " 'Medium',\n",
       " 'Medium',\n",
       " 'Low',\n",
       " 'High',\n",
       " 'Medium',\n",
       " 'High',\n",
       " 'Low',\n",
       " 'High',\n",
       " 'High',\n",
       " 'Low',\n",
       " 'Low',\n",
       " 'Medium',\n",
       " 'High',\n",
       " 'High',\n",
       " 'Medium',\n",
       " 'Low',\n",
       " 'Medium',\n",
       " 'Medium',\n",
       " 'High',\n",
       " 'High',\n",
       " 'Medium',\n",
       " 'Medium',\n",
       " 'Medium',\n",
       " 'Low',\n",
       " 'Medium',\n",
       " 'Low',\n",
       " 'Medium',\n",
       " 'Low',\n",
       " 'Medium',\n",
       " 'Low',\n",
       " 'Medium',\n",
       " 'Medium',\n",
       " 'Low',\n",
       " 'High',\n",
       " 'Medium',\n",
       " 'High',\n",
       " 'High',\n",
       " 'High',\n",
       " 'Low',\n",
       " 'Medium',\n",
       " 'Medium',\n",
       " 'Low',\n",
       " 'High',\n",
       " 'High',\n",
       " 'Low',\n",
       " 'Medium',\n",
       " 'Medium',\n",
       " 'Low',\n",
       " 'High',\n",
       " 'Medium',\n",
       " 'Low',\n",
       " 'Low',\n",
       " 'Medium',\n",
       " 'Medium',\n",
       " 'High',\n",
       " 'High',\n",
       " 'Low',\n",
       " 'Medium',\n",
       " 'Medium',\n",
       " 'Low',\n",
       " 'Low',\n",
       " 'Medium',\n",
       " 'Low',\n",
       " 'Low',\n",
       " 'Medium',\n",
       " 'High',\n",
       " 'Low',\n",
       " 'Medium',\n",
       " 'High',\n",
       " 'Medium',\n",
       " 'High',\n",
       " 'Low',\n",
       " 'High',\n",
       " 'Low',\n",
       " 'Low',\n",
       " 'Medium',\n",
       " 'Medium',\n",
       " 'Low',\n",
       " 'Medium',\n",
       " 'Medium',\n",
       " 'High',\n",
       " 'Medium',\n",
       " 'Medium',\n",
       " 'Low',\n",
       " 'Medium',\n",
       " 'Medium',\n",
       " 'Medium',\n",
       " 'Medium',\n",
       " 'High',\n",
       " 'High',\n",
       " 'High',\n",
       " 'High',\n",
       " 'Medium',\n",
       " 'Medium',\n",
       " 'Medium',\n",
       " 'High',\n",
       " 'High',\n",
       " 'Low',\n",
       " 'Medium',\n",
       " 'High',\n",
       " 'Low',\n",
       " 'Medium',\n",
       " 'Low',\n",
       " 'High',\n",
       " 'High',\n",
       " 'High',\n",
       " 'High',\n",
       " 'Medium',\n",
       " 'High',\n",
       " 'Low',\n",
       " 'Low',\n",
       " 'Low',\n",
       " 'Medium',\n",
       " 'High',\n",
       " 'Low',\n",
       " 'Medium',\n",
       " 'Medium',\n",
       " 'Medium',\n",
       " 'High',\n",
       " 'Low',\n",
       " 'Low',\n",
       " 'Medium',\n",
       " 'Medium',\n",
       " 'High',\n",
       " 'High',\n",
       " 'Medium',\n",
       " 'Low',\n",
       " 'Low',\n",
       " 'Low',\n",
       " 'Medium',\n",
       " 'Medium',\n",
       " 'High',\n",
       " 'Medium',\n",
       " 'High',\n",
       " 'Low',\n",
       " 'Medium',\n",
       " 'High',\n",
       " 'High',\n",
       " 'Low',\n",
       " 'Low',\n",
       " 'Low',\n",
       " 'Low',\n",
       " 'Low',\n",
       " 'Low',\n",
       " 'Low',\n",
       " 'Medium',\n",
       " 'Low',\n",
       " 'Low',\n",
       " 'Low',\n",
       " 'Low',\n",
       " 'Low',\n",
       " 'Low',\n",
       " 'Low',\n",
       " 'Low',\n",
       " 'Low',\n",
       " 'Low',\n",
       " 'Low',\n",
       " 'Low',\n",
       " 'Low',\n",
       " 'Low',\n",
       " 'Low',\n",
       " 'Low',\n",
       " 'Medium',\n",
       " 'Low',\n",
       " 'Low',\n",
       " 'Low',\n",
       " 'Low',\n",
       " 'Low',\n",
       " 'Low',\n",
       " 'Low',\n",
       " 'Low',\n",
       " 'Low',\n",
       " 'Low',\n",
       " 'Low',\n",
       " 'Low',\n",
       " 'Low',\n",
       " 'Low',\n",
       " 'Low',\n",
       " 'Low',\n",
       " 'Low',\n",
       " 'Low',\n",
       " 'Low',\n",
       " 'Low',\n",
       " 'Low',\n",
       " 'High',\n",
       " 'Low',\n",
       " 'Low',\n",
       " 'Low',\n",
       " 'Low',\n",
       " 'Low',\n",
       " 'Low',\n",
       " 'Low',\n",
       " 'Low',\n",
       " 'Low',\n",
       " 'Low',\n",
       " 'Low',\n",
       " 'Low',\n",
       " 'Low',\n",
       " 'Low',\n",
       " 'Low',\n",
       " 'Low',\n",
       " 'Low',\n",
       " 'Low',\n",
       " 'Low',\n",
       " 'Low',\n",
       " 'High',\n",
       " 'Low',\n",
       " 'Low',\n",
       " 'Low',\n",
       " 'Low',\n",
       " 'Low',\n",
       " 'Low',\n",
       " 'Medium',\n",
       " 'Low',\n",
       " 'Low',\n",
       " 'Low',\n",
       " 'Low',\n",
       " 'Medium',\n",
       " 'Low',\n",
       " 'Low',\n",
       " 'Low',\n",
       " 'Low',\n",
       " 'Low',\n",
       " 'Low',\n",
       " 'Low',\n",
       " 'Low',\n",
       " 'Low',\n",
       " 'Low',\n",
       " 'High',\n",
       " 'Low',\n",
       " 'Low',\n",
       " 'Low',\n",
       " 'Low',\n",
       " 'Low',\n",
       " 'Low',\n",
       " 'Low',\n",
       " 'Low',\n",
       " 'Low',\n",
       " 'Low',\n",
       " 'Low',\n",
       " 'Low',\n",
       " 'Low',\n",
       " 'Low',\n",
       " 'Low',\n",
       " 'Low',\n",
       " 'Low',\n",
       " 'Low',\n",
       " 'Low',\n",
       " 'Low',\n",
       " 'Low',\n",
       " 'Low',\n",
       " 'Low',\n",
       " 'Low',\n",
       " 'Low',\n",
       " 'Low',\n",
       " 'Low',\n",
       " 'Low',\n",
       " 'Low',\n",
       " 'Low',\n",
       " 'Low',\n",
       " 'Low',\n",
       " 'Low',\n",
       " 'High',\n",
       " 'Low',\n",
       " 'Low',\n",
       " 'Low',\n",
       " 'Low',\n",
       " 'Low',\n",
       " 'Low',\n",
       " 'Low',\n",
       " 'Low',\n",
       " 'Low',\n",
       " 'Low',\n",
       " 'Low',\n",
       " 'Low',\n",
       " 'Low',\n",
       " 'Medium',\n",
       " 'Low',\n",
       " 'Low',\n",
       " 'Low',\n",
       " 'Low',\n",
       " 'Low',\n",
       " 'Low',\n",
       " 'Low',\n",
       " 'Low',\n",
       " 'Low',\n",
       " 'Low',\n",
       " 'Low',\n",
       " 'Low',\n",
       " 'Low',\n",
       " 'Low',\n",
       " 'Low',\n",
       " 'Low',\n",
       " 'Low',\n",
       " 'Low',\n",
       " 'Low',\n",
       " 'Low',\n",
       " 'Low',\n",
       " 'Low',\n",
       " 'Low',\n",
       " 'Low',\n",
       " 'Low',\n",
       " 'Low',\n",
       " 'Low',\n",
       " 'Low',\n",
       " 'Low',\n",
       " 'Low',\n",
       " 'Low',\n",
       " 'Low',\n",
       " 'Low',\n",
       " 'Low',\n",
       " 'Low',\n",
       " 'Low',\n",
       " 'Low',\n",
       " 'Low',\n",
       " 'Low',\n",
       " 'Low',\n",
       " 'Low',\n",
       " 'Low',\n",
       " 'Low',\n",
       " 'Low',\n",
       " 'Low',\n",
       " 'Low',\n",
       " 'Low',\n",
       " 'Low',\n",
       " 'Low',\n",
       " 'Low',\n",
       " 'Low',\n",
       " 'Low',\n",
       " 'Low',\n",
       " 'Low',\n",
       " 'Low',\n",
       " 'Low',\n",
       " 'Low',\n",
       " 'Low',\n",
       " 'Low',\n",
       " 'Low',\n",
       " 'Low',\n",
       " 'Low',\n",
       " 'Low',\n",
       " 'Low',\n",
       " 'Low',\n",
       " 'Low',\n",
       " 'Low',\n",
       " 'Low',\n",
       " 'Low',\n",
       " 'Low',\n",
       " 'Low',\n",
       " 'Low',\n",
       " 'Low',\n",
       " 'Low',\n",
       " 'Low',\n",
       " 'Low',\n",
       " 'Low',\n",
       " 'Low',\n",
       " 'Low',\n",
       " 'Low',\n",
       " 'Low',\n",
       " 'Low',\n",
       " 'Low',\n",
       " 'Low',\n",
       " 'High',\n",
       " 'Low',\n",
       " 'Low',\n",
       " 'Low',\n",
       " 'Low',\n",
       " 'Low',\n",
       " 'Low',\n",
       " 'Low',\n",
       " 'Low',\n",
       " 'Low',\n",
       " 'Low',\n",
       " 'Low',\n",
       " 'Low',\n",
       " 'Low',\n",
       " 'Low',\n",
       " 'Low',\n",
       " 'Low',\n",
       " 'Low',\n",
       " 'Low',\n",
       " 'Low',\n",
       " 'Low',\n",
       " 'High',\n",
       " 'Low',\n",
       " 'Low',\n",
       " 'Low',\n",
       " 'Low',\n",
       " 'Low',\n",
       " 'Low',\n",
       " 'Low',\n",
       " 'Medium',\n",
       " 'Low',\n",
       " 'Low',\n",
       " 'Low',\n",
       " 'Low',\n",
       " 'Low',\n",
       " 'Low',\n",
       " 'Low',\n",
       " 'Low',\n",
       " 'Low',\n",
       " 'Low',\n",
       " 'Low',\n",
       " 'Low',\n",
       " 'Low',\n",
       " 'Low',\n",
       " 'Low',\n",
       " 'Low',\n",
       " 'Low',\n",
       " 'Low',\n",
       " 'Low',\n",
       " 'Low',\n",
       " 'Low',\n",
       " 'Low',\n",
       " 'Low',\n",
       " 'Low',\n",
       " 'Low',\n",
       " 'Low',\n",
       " 'Low',\n",
       " 'Low',\n",
       " 'Low',\n",
       " 'Low',\n",
       " 'Low',\n",
       " 'Low',\n",
       " 'Low',\n",
       " 'Low',\n",
       " 'Low',\n",
       " 'Low',\n",
       " 'Low',\n",
       " 'Low',\n",
       " 'Low',\n",
       " 'Low',\n",
       " 'Low',\n",
       " 'Low',\n",
       " 'Low',\n",
       " 'Low',\n",
       " 'Low',\n",
       " 'Low',\n",
       " 'Low',\n",
       " 'Low',\n",
       " 'Low',\n",
       " 'Low',\n",
       " 'Low',\n",
       " 'High',\n",
       " 'Low',\n",
       " 'Low',\n",
       " 'Low',\n",
       " 'Low',\n",
       " 'Low',\n",
       " 'Medium',\n",
       " 'Low',\n",
       " 'Medium',\n",
       " 'Low',\n",
       " 'Low',\n",
       " 'Medium',\n",
       " 'Low',\n",
       " 'Medium',\n",
       " 'Medium',\n",
       " 'Low',\n",
       " 'High',\n",
       " 'Low',\n",
       " 'Medium',\n",
       " 'Low',\n",
       " 'Low',\n",
       " 'Medium',\n",
       " 'Low',\n",
       " 'Medium',\n",
       " 'High',\n",
       " 'Low',\n",
       " 'High',\n",
       " 'Low',\n",
       " 'High',\n",
       " 'Low',\n",
       " 'High',\n",
       " 'High',\n",
       " 'Medium',\n",
       " 'High',\n",
       " 'Medium',\n",
       " 'High',\n",
       " 'Low',\n",
       " 'Low',\n",
       " 'High',\n",
       " 'Medium',\n",
       " 'Low',\n",
       " 'Low',\n",
       " 'Medium',\n",
       " 'Medium',\n",
       " 'Low',\n",
       " 'Medium',\n",
       " 'Low',\n",
       " 'Low',\n",
       " 'Medium',\n",
       " 'Low',\n",
       " 'Medium',\n",
       " 'Medium',\n",
       " 'Low',\n",
       " 'High',\n",
       " 'Low',\n",
       " 'Medium',\n",
       " 'Low',\n",
       " 'Low',\n",
       " 'Medium',\n",
       " 'Low',\n",
       " 'Medium',\n",
       " 'High',\n",
       " 'Low',\n",
       " 'High',\n",
       " 'Low',\n",
       " 'High',\n",
       " 'Low',\n",
       " 'High',\n",
       " 'High',\n",
       " 'Medium',\n",
       " 'High',\n",
       " 'Medium',\n",
       " 'High',\n",
       " 'Low',\n",
       " 'Low',\n",
       " 'High',\n",
       " 'Medium',\n",
       " 'Low',\n",
       " 'Low',\n",
       " 'Medium',\n",
       " 'Medium',\n",
       " 'Low',\n",
       " 'Medium',\n",
       " 'Low',\n",
       " 'Low',\n",
       " 'Medium',\n",
       " 'Low',\n",
       " 'Medium',\n",
       " 'Medium',\n",
       " 'Low',\n",
       " 'High',\n",
       " 'Low',\n",
       " 'Medium',\n",
       " 'Low',\n",
       " 'Low',\n",
       " 'Medium',\n",
       " 'Low',\n",
       " 'Medium',\n",
       " 'High',\n",
       " 'Low',\n",
       " 'High',\n",
       " 'Low',\n",
       " 'High',\n",
       " 'Low',\n",
       " 'High',\n",
       " 'High',\n",
       " 'Medium',\n",
       " 'High',\n",
       " 'Medium',\n",
       " 'High',\n",
       " 'Low',\n",
       " 'Low',\n",
       " 'High',\n",
       " 'Medium',\n",
       " 'Low',\n",
       " 'Low',\n",
       " 'Medium']"
      ]
     },
     "execution_count": 46,
     "metadata": {},
     "output_type": "execute_result"
    }
   ],
   "source": [
    "pred"
   ]
  },
  {
   "cell_type": "code",
   "execution_count": 47,
   "metadata": {},
   "outputs": [],
   "source": [
    "submission = pd.DataFrame(pred,index =test_id)\n",
    "submission.columns = [\"CustomerValue\"]"
   ]
  },
  {
   "cell_type": "code",
   "execution_count": 48,
   "metadata": {},
   "outputs": [],
   "source": [
    "submission.to_csv('suryaj.csv')"
   ]
  },
  {
   "cell_type": "code",
   "execution_count": 49,
   "metadata": {},
   "outputs": [],
   "source": [
    "from sklearn.model_selection import GridSearchCV\n",
    "import xgboost as xgb\n",
    "from xgboost.sklearn import XGBClassifier"
   ]
  },
  {
   "cell_type": "markdown",
   "metadata": {},
   "source": [
    "# Algorithm 2 : XGBoost"
   ]
  },
  {
   "cell_type": "code",
   "execution_count": 50,
   "metadata": {},
   "outputs": [
    {
     "name": "stderr",
     "output_type": "stream",
     "text": [
      "/Users/surya/anaconda3/lib/python3.6/site-packages/sklearn/utils/deprecation.py:125: FutureWarning: You are accessing a training score ('split0_train_score'), which will not be available by default any more in 0.21. If you need training scores, please set return_train_score=True\n",
      "  warnings.warn(*warn_args, **warn_kwargs)\n",
      "/Users/surya/anaconda3/lib/python3.6/site-packages/sklearn/utils/deprecation.py:125: FutureWarning: You are accessing a training score ('split1_train_score'), which will not be available by default any more in 0.21. If you need training scores, please set return_train_score=True\n",
      "  warnings.warn(*warn_args, **warn_kwargs)\n",
      "/Users/surya/anaconda3/lib/python3.6/site-packages/sklearn/utils/deprecation.py:125: FutureWarning: You are accessing a training score ('split2_train_score'), which will not be available by default any more in 0.21. If you need training scores, please set return_train_score=True\n",
      "  warnings.warn(*warn_args, **warn_kwargs)\n",
      "/Users/surya/anaconda3/lib/python3.6/site-packages/sklearn/utils/deprecation.py:125: FutureWarning: You are accessing a training score ('split3_train_score'), which will not be available by default any more in 0.21. If you need training scores, please set return_train_score=True\n",
      "  warnings.warn(*warn_args, **warn_kwargs)\n",
      "/Users/surya/anaconda3/lib/python3.6/site-packages/sklearn/utils/deprecation.py:125: FutureWarning: You are accessing a training score ('split4_train_score'), which will not be available by default any more in 0.21. If you need training scores, please set return_train_score=True\n",
      "  warnings.warn(*warn_args, **warn_kwargs)\n",
      "/Users/surya/anaconda3/lib/python3.6/site-packages/sklearn/utils/deprecation.py:125: FutureWarning: You are accessing a training score ('mean_train_score'), which will not be available by default any more in 0.21. If you need training scores, please set return_train_score=True\n",
      "  warnings.warn(*warn_args, **warn_kwargs)\n",
      "/Users/surya/anaconda3/lib/python3.6/site-packages/sklearn/utils/deprecation.py:125: FutureWarning: You are accessing a training score ('std_train_score'), which will not be available by default any more in 0.21. If you need training scores, please set return_train_score=True\n",
      "  warnings.warn(*warn_args, **warn_kwargs)\n"
     ]
    },
    {
     "data": {
      "text/plain": [
       "({'mean_fit_time': array([1.41000581, 1.2981782 , 1.50453911, 1.48786564, 1.7250144 ,\n",
       "         1.45697083]),\n",
       "  'std_fit_time': array([0.05732445, 0.00622906, 0.01494753, 0.01278084, 0.00867713,\n",
       "         0.29373487]),\n",
       "  'mean_score_time': array([0.02918401, 0.02537498, 0.02949772, 0.02825065, 0.03436279,\n",
       "         0.02971373]),\n",
       "  'std_score_time': array([0.00343135, 0.00207757, 0.00038263, 0.00098029, 0.00210508,\n",
       "         0.00226298]),\n",
       "  'param_max_depth': masked_array(data=[6, 6, 7, 7, 8, 8],\n",
       "               mask=[False, False, False, False, False, False],\n",
       "         fill_value='?',\n",
       "              dtype=object),\n",
       "  'param_min_child_weight': masked_array(data=[1, 2, 1, 2, 1, 2],\n",
       "               mask=[False, False, False, False, False, False],\n",
       "         fill_value='?',\n",
       "              dtype=object),\n",
       "  'params': [{'max_depth': 6, 'min_child_weight': 1},\n",
       "   {'max_depth': 6, 'min_child_weight': 2},\n",
       "   {'max_depth': 7, 'min_child_weight': 1},\n",
       "   {'max_depth': 7, 'min_child_weight': 2},\n",
       "   {'max_depth': 8, 'min_child_weight': 1},\n",
       "   {'max_depth': 8, 'min_child_weight': 2}],\n",
       "  'split0_test_score': array([0.65470852, 0.64349776, 0.63452915, 0.64798206, 0.62107623,\n",
       "         0.64349776]),\n",
       "  'split1_test_score': array([0.65315315, 0.65540541, 0.66441441, 0.65540541, 0.65540541,\n",
       "         0.66216216]),\n",
       "  'split2_test_score': array([0.63288288, 0.63738739, 0.63513514, 0.63738739, 0.64864865,\n",
       "         0.63288288]),\n",
       "  'split3_test_score': array([0.65315315, 0.6509009 , 0.63963964, 0.63513514, 0.61036036,\n",
       "         0.62162162]),\n",
       "  'split4_test_score': array([0.67945824, 0.67945824, 0.68171558, 0.67494357, 0.66817156,\n",
       "         0.67042889]),\n",
       "  'mean_test_score': array([0.65467119, 0.65332994, 0.65108678, 0.65017071, 0.64073244,\n",
       "         0.64611866]),\n",
       "  'std_test_score': array([0.01479012, 0.01444806, 0.01884355, 0.01439006, 0.02163191,\n",
       "         0.01805847]),\n",
       "  'rank_test_score': array([1, 2, 3, 4, 6, 5], dtype=int32),\n",
       "  'split0_train_score': array([0.96056338, 0.94478873, 0.98028169, 0.97295775, 0.98422535,\n",
       "         0.98197183]),\n",
       "  'split1_train_score': array([0.96173326, 0.94653911, 0.98030388, 0.97692741, 0.98480585,\n",
       "         0.98255487]),\n",
       "  'split2_train_score': array([0.9634215 , 0.95047833, 0.98086663, 0.97636466, 0.98368036,\n",
       "         0.98255487]),\n",
       "  'split3_train_score': array([0.95779403, 0.94541362, 0.97974114, 0.97242544, 0.98424311,\n",
       "         0.98311761]),\n",
       "  'split4_train_score': array([0.95388076, 0.94094488, 0.97525309, 0.9696288 , 0.98031496,\n",
       "         0.97750281]),\n",
       "  'mean_train_score': array([0.95947859, 0.94563294, 0.97928929, 0.97366081, 0.98345393,\n",
       "         0.9815404 ]),\n",
       "  'std_train_score': array([0.00334605, 0.00306717, 0.00204926, 0.00269292, 0.00160935,\n",
       "         0.00205106])},\n",
       " {'max_depth': 6, 'min_child_weight': 1},\n",
       " 0.6546711897292428)"
      ]
     },
     "execution_count": 50,
     "metadata": {},
     "output_type": "execute_result"
    }
   ],
   "source": [
    "param_test1 = {\n",
    "'max_depth':[6,7,8],\n",
    " 'min_child_weight':[1,2]\n",
    "   # 'min_child_weight':[6,8,10,12]\n",
    "   # 'gamma':[i/10.0 for i in range(0,5)]\n",
    "}\n",
    "gsearch1 = GridSearchCV(estimator = XGBClassifier( learning_rate =0.1, n_estimators=140, max_depth=7,\n",
    " min_child_weight=6, gamma=0, subsample=0.8, colsample_bytree=0.8,\n",
    " objective= 'multi:softprob', nthread=4, num_class=3,scale_pos_weight=1, seed=27), \n",
    " param_grid = param_test1,n_jobs=4,iid=False, cv=5)\n",
    "gsearch1.fit(X_train,Y_train)\n",
    "gsearch1.cv_results_, gsearch1.best_params_, gsearch1.best_score_"
   ]
  },
  {
   "cell_type": "code",
   "execution_count": 51,
   "metadata": {},
   "outputs": [],
   "source": [
    "xgb1 = XGBClassifier( learning_rate =0.1, n_estimators=140, max_depth=6,\n",
    " min_child_weight=1, gamma=0, subsample=0.8, colsample_bytree=0.8,\n",
    " objective= 'multi:softprob', nthread=4, num_class=3,scale_pos_weight=1, seed=27)"
   ]
  },
  {
   "cell_type": "code",
   "execution_count": 52,
   "metadata": {},
   "outputs": [
    {
     "name": "stdout",
     "output_type": "stream",
     "text": [
      "\n",
      "Model Report\n",
      "Accuracy : 0.6188\n"
     ]
    }
   ],
   "source": [
    "#Fit the algorithm on the data\n",
    "xgb1.fit(X_train, Y_train,eval_metric='auc')\n",
    "\n",
    "#Predict training set:\n",
    "dtrain_predictions = xgb1.predict(X_test)\n",
    "dtrain_predprob = xgb1.predict_proba(X_test)[:,1]\n",
    "\n",
    "#Print model report:\n",
    "print (\"\\nModel Report\")\n",
    "print (\"Accuracy : %.4g\"% accuracy_score(Y_test, dtrain_predictions))"
   ]
  },
  {
   "cell_type": "code",
   "execution_count": 53,
   "metadata": {},
   "outputs": [],
   "source": [
    "xgb2 = XGBClassifier( learning_rate =0.1, n_estimators=140, max_depth=6,\n",
    " min_child_weight=2, gamma=0, subsample=0.8, colsample_bytree=0.8,\n",
    " objective= 'multi:softprob', nthread=4, num_class=3,scale_pos_weight=1, seed=27)"
   ]
  },
  {
   "cell_type": "code",
   "execution_count": 54,
   "metadata": {},
   "outputs": [
    {
     "name": "stdout",
     "output_type": "stream",
     "text": [
      "\n",
      "Model Report\n",
      "Accuracy : 0.6188\n"
     ]
    }
   ],
   "source": [
    "#Fit the algorithm on the data\n",
    "xgb2.fit(X_train, Y_train,eval_metric='auc')\n",
    "\n",
    "#Predict training set:\n",
    "dtrain_predictions = xgb1.predict(X_test)\n",
    "dtrain_predprob = xgb1.predict_proba(X_test)[:,1]\n",
    "\n",
    "#Print model report:\n",
    "print (\"\\nModel Report\")\n",
    "print (\"Accuracy : %.4g\"% accuracy_score(Y_test, dtrain_predictions))"
   ]
  },
  {
   "cell_type": "code",
   "execution_count": 55,
   "metadata": {},
   "outputs": [],
   "source": [
    "xgb3 = XGBClassifier( learning_rate =0.1, n_estimators=140, max_depth=8,\n",
    " min_child_weight=2, gamma=0, subsample=0.8, colsample_bytree=0.8,\n",
    " objective= 'multi:softprob', nthread=4, num_class=3,scale_pos_weight=1, seed=27)"
   ]
  },
  {
   "cell_type": "code",
   "execution_count": 56,
   "metadata": {},
   "outputs": [
    {
     "name": "stdout",
     "output_type": "stream",
     "text": [
      "\n",
      "Model Report\n",
      "Accuracy : 0.6188\n"
     ]
    }
   ],
   "source": [
    "xgb3.fit(X_train, Y_train,eval_metric='auc')\n",
    "\n",
    "#Predict training set:\n",
    "dtrain_predictions = xgb1.predict(X_test)\n",
    "dtrain_predprob = xgb1.predict_proba(X_test)[:,1]\n",
    "\n",
    "#Print model report:\n",
    "print (\"\\nModel Report\")\n",
    "print (\"Accuracy : %.4g\"% accuracy_score(Y_test, dtrain_predictions))"
   ]
  },
  {
   "cell_type": "code",
   "execution_count": 57,
   "metadata": {},
   "outputs": [],
   "source": [
    "predictionJ=xgb3.predict(test)"
   ]
  },
  {
   "cell_type": "code",
   "execution_count": 58,
   "metadata": {},
   "outputs": [
    {
     "data": {
      "text/plain": [
       "array([0, 0, 2, 0, 2, 2, 0, 2, 2, 2, 2, 2, 2, 0, 2, 2, 2, 2, 0, 2, 2, 0,\n",
       "       2, 2, 2, 0, 0, 0, 0, 0, 2, 2, 2, 0, 0, 2, 0, 2, 0, 2, 0, 2, 2, 0,\n",
       "       2, 2, 0, 1, 2, 2, 0, 1, 2, 2, 2, 0, 2, 0, 0, 0, 2, 0, 1, 1, 0, 2,\n",
       "       2, 2, 0, 0, 2, 0, 2, 1, 2, 0, 0, 0, 2, 2, 0, 2, 2, 1, 0, 2, 2, 2,\n",
       "       0, 0, 2, 2, 0, 0, 0, 0, 2, 0, 2, 2, 2, 0, 0, 1, 2, 2, 1, 0, 1, 2,\n",
       "       1, 2, 2, 2, 0, 0, 0, 2, 0, 0, 0, 2, 2, 1, 0, 0, 2, 0, 0, 2, 2, 2,\n",
       "       0, 2, 2, 0, 2, 0, 0, 0, 2, 2, 1, 0, 1, 0, 0, 1, 2, 0, 2, 1, 2, 1,\n",
       "       2, 2, 2, 2, 0, 0, 1, 0, 0, 2, 1, 2, 2, 0, 1, 0, 1, 0, 2, 2, 2, 0,\n",
       "       2, 2, 2, 1, 2, 0, 0, 1, 0, 2, 2, 2, 0, 2, 1, 2, 2, 2, 2, 1, 1, 0,\n",
       "       0, 0, 2, 1, 1, 0, 1, 0, 2, 0, 2, 0, 2, 0, 2, 1, 0, 0, 2, 1, 0, 0,\n",
       "       0, 2, 1, 2, 2, 2, 1, 2, 2, 2, 2, 0, 0, 0, 0, 1, 0, 2, 0, 0, 2, 0,\n",
       "       1, 1, 0, 2, 2, 0, 1, 2, 0, 2, 2, 0, 2, 2, 1, 2, 2, 1, 0, 1, 0, 1,\n",
       "       0, 0, 1, 0, 1, 2, 1, 1, 1, 2, 1, 2, 2, 2, 0, 2, 0, 2, 2, 2, 2, 0,\n",
       "       1, 2, 2, 2, 2, 0, 2, 0, 1, 0, 1, 1, 0, 1, 1, 2, 2, 2, 2, 2, 0, 2,\n",
       "       2, 1, 0, 2, 2, 1, 0, 0, 2, 2, 2, 2, 2, 1, 2, 1, 2, 2, 1, 1, 2, 1,\n",
       "       2, 2, 2, 0, 0, 2, 1, 2, 0, 2, 2, 0, 2, 2, 2, 2, 2, 1, 2, 0, 2, 1,\n",
       "       1, 2, 2, 1, 0, 1, 2, 0, 0, 2, 2, 0, 0, 1, 1, 2, 2, 2, 1, 0, 2, 2,\n",
       "       1, 2, 2, 0, 2, 2, 1, 2, 0, 1, 2, 2, 0, 1, 2, 0, 1, 1, 2, 2, 0, 2,\n",
       "       1, 2, 0, 0, 0, 2, 2, 2, 1, 2, 1, 2, 1, 0, 1, 2, 2, 1, 0, 2, 0, 0,\n",
       "       2, 1, 2, 2, 1, 0, 0, 1, 2, 0, 1, 0, 2, 1, 1, 2, 0, 0, 0, 1, 2, 2,\n",
       "       2, 1, 2, 1, 1, 0, 0, 0, 2, 0, 0, 0, 1, 0, 1, 1, 2, 2, 1, 2, 2, 0,\n",
       "       2, 2, 1, 2, 2, 2, 2, 0, 0, 2, 0, 2, 2, 2, 0, 0, 1, 2, 0, 1, 2, 1,\n",
       "       0, 2, 2, 2, 2, 0, 1, 1, 1, 2, 0, 1, 2, 2, 2, 0, 1, 1, 2, 2, 0, 0,\n",
       "       1, 1, 1, 2, 2, 2, 0, 2, 0, 1, 2, 0, 0, 1, 1, 1, 1, 1, 1, 1, 2, 1,\n",
       "       1, 1, 1, 1, 1, 1, 1, 1, 1, 1, 1, 1, 1, 1, 1, 2, 1, 1, 1, 1, 1, 1,\n",
       "       1, 1, 1, 1, 1, 1, 1, 1, 1, 1, 1, 1, 1, 1, 1, 1, 1, 1, 1, 1, 1, 1,\n",
       "       1, 1, 1, 1, 1, 1, 1, 1, 1, 1, 1, 1, 1, 1, 0, 1, 1, 1, 1, 1, 1, 2,\n",
       "       1, 1, 1, 1, 2, 1, 1, 1, 1, 1, 1, 1, 1, 1, 1, 0, 1, 1, 1, 1, 1, 1,\n",
       "       1, 1, 1, 1, 1, 1, 1, 1, 1, 1, 1, 1, 1, 1, 1, 1, 1, 1, 1, 1, 1, 1,\n",
       "       1, 1, 1, 1, 1, 0, 1, 1, 1, 1, 1, 1, 1, 1, 1, 1, 1, 1, 1, 2, 1, 1,\n",
       "       1, 1, 1, 1, 1, 1, 1, 1, 1, 1, 1, 1, 1, 1, 1, 1, 1, 1, 1, 1, 1, 1,\n",
       "       1, 1, 1, 1, 1, 1, 1, 1, 1, 1, 1, 1, 1, 1, 1, 1, 1, 1, 1, 1, 1, 1,\n",
       "       1, 1, 1, 1, 1, 1, 1, 1, 1, 1, 1, 1, 1, 1, 1, 1, 1, 1, 1, 1, 1, 1,\n",
       "       1, 1, 1, 1, 1, 1, 1, 1, 1, 1, 1, 1, 1, 1, 1, 1, 1, 1, 1, 1, 1, 1,\n",
       "       1, 1, 1, 1, 1, 1, 1, 1, 1, 1, 1, 1, 1, 1, 1, 0, 1, 1, 1, 1, 1, 1,\n",
       "       1, 2, 1, 1, 1, 1, 1, 1, 1, 1, 1, 1, 1, 1, 1, 1, 1, 1, 1, 1, 1, 1,\n",
       "       1, 1, 1, 1, 1, 1, 1, 1, 1, 1, 1, 1, 1, 1, 1, 1, 1, 1, 1, 1, 1, 1,\n",
       "       1, 1, 1, 1, 1, 1, 1, 1, 1, 0, 1, 1, 1, 1, 1, 2, 2, 1, 1, 1, 2, 1,\n",
       "       2, 0, 1, 0, 1, 2, 1, 1, 2, 1, 2, 1, 2, 0, 1, 0, 1, 0, 0, 2, 0, 1,\n",
       "       0, 1, 1, 0, 2, 1, 1, 0, 2, 2, 1, 1, 1, 2, 1, 2, 0, 1, 0, 1, 2, 1,\n",
       "       1, 2, 1, 2, 1, 2, 0, 1, 0, 1, 0, 0, 2, 0, 1, 0, 1, 1, 0, 2, 1, 1,\n",
       "       0, 2, 2, 1, 1, 1, 2, 1, 2, 0, 1, 0, 1, 2, 1, 1, 2, 1, 2, 1, 2, 0,\n",
       "       1, 0, 1, 0, 0, 2, 0, 1, 0, 1, 1, 0, 2, 1, 1, 0])"
      ]
     },
     "execution_count": 58,
     "metadata": {},
     "output_type": "execute_result"
    }
   ],
   "source": [
    "predictionJ"
   ]
  },
  {
   "cell_type": "code",
   "execution_count": 59,
   "metadata": {},
   "outputs": [],
   "source": [
    "i=0\n",
    "pred = []\n",
    "for arr in predictionJ:\n",
    "    if predictionJ[i]==0:\n",
    "        pred.append('High')\n",
    "    elif predictionJ[i]== 1:\n",
    "        pred.append('Low')\n",
    "    elif predictionJ[i] == 2:\n",
    "        pred.append(\"Medium\")\n",
    "    i = i+1"
   ]
  },
  {
   "cell_type": "code",
   "execution_count": 60,
   "metadata": {},
   "outputs": [],
   "source": [
    "submission = pd.DataFrame(pred,index =test_id)\n",
    "submission.columns = [\"CustomerValue\"]"
   ]
  },
  {
   "cell_type": "code",
   "execution_count": 61,
   "metadata": {},
   "outputs": [],
   "source": [
    "submission.to_csv('taraj.csv')"
   ]
  },
  {
   "cell_type": "markdown",
   "metadata": {},
   "source": [
    "# Algorithm 3 : Random Forest "
   ]
  },
  {
   "cell_type": "code",
   "execution_count": 62,
   "metadata": {},
   "outputs": [],
   "source": [
    "from sklearn.ensemble import RandomForestClassifier\n",
    "\n",
    "model_rforest = RandomForestClassifier(n_estimators=20, random_state=0)"
   ]
  },
  {
   "cell_type": "code",
   "execution_count": 63,
   "metadata": {},
   "outputs": [],
   "source": [
    "model_rforest.fit(X_train, Y_train)\n",
    "Y_pred_rforest = model_rforest.predict(X_test)"
   ]
  },
  {
   "cell_type": "code",
   "execution_count": 64,
   "metadata": {},
   "outputs": [
    {
     "name": "stdout",
     "output_type": "stream",
     "text": [
      "Accuracy Score:\n",
      "0.613345521023766\n"
     ]
    }
   ],
   "source": [
    "print (\"Accuracy Score:\")\n",
    "print(accuracy_score(Y_test, Y_pred_rforest))"
   ]
  },
  {
   "cell_type": "code",
   "execution_count": 65,
   "metadata": {},
   "outputs": [],
   "source": [
    "number_of_trees=735"
   ]
  },
  {
   "cell_type": "code",
   "execution_count": 66,
   "metadata": {},
   "outputs": [],
   "source": [
    "model_rforest2 = RandomForestClassifier(n_estimators=number_of_trees, random_state=0)\n",
    "model_rforest2.fit(X_train, Y_train)\n",
    "Y_pred_rforest2 = model_rforest2.predict(X_test)\n"
   ]
  },
  {
   "cell_type": "code",
   "execution_count": 67,
   "metadata": {},
   "outputs": [
    {
     "name": "stdout",
     "output_type": "stream",
     "text": [
      "Accuracy Score:\n",
      "0.6325411334552102\n"
     ]
    }
   ],
   "source": [
    "print (\"Accuracy Score:\")\n",
    "print(accuracy_score(Y_test, Y_pred_rforest2))"
   ]
  },
  {
   "cell_type": "code",
   "execution_count": 68,
   "metadata": {},
   "outputs": [],
   "source": [
    "predictionJ=model_rforest2.predict(test)"
   ]
  },
  {
   "cell_type": "code",
   "execution_count": 69,
   "metadata": {},
   "outputs": [],
   "source": [
    "i=0\n",
    "pred = []\n",
    "for arr in predictionJ:\n",
    "    if predictionJ[i]==0:\n",
    "        pred.append('High')\n",
    "    elif predictionJ[i]== 1:\n",
    "        pred.append('Low')\n",
    "    elif predictionJ[i] == 2:\n",
    "        pred.append(\"Medium\")\n",
    "    i = i+1"
   ]
  },
  {
   "cell_type": "code",
   "execution_count": 70,
   "metadata": {},
   "outputs": [],
   "source": [
    "submission = pd.DataFrame(pred,index =test_id)\n",
    "submission.columns = [\"CustomerValue\"]"
   ]
  },
  {
   "cell_type": "code",
   "execution_count": 71,
   "metadata": {},
   "outputs": [],
   "source": [
    "submission.to_csv('JJ.csv')"
   ]
  },
  {
   "cell_type": "markdown",
   "metadata": {},
   "source": [
    "# Algorithm 4 : Naive Bayes"
   ]
  },
  {
   "cell_type": "code",
   "execution_count": 72,
   "metadata": {},
   "outputs": [],
   "source": [
    "from sklearn.naive_bayes import GaussianNB\n",
    "from sklearn.metrics import accuracy_score, recall_score, classification_report"
   ]
  },
  {
   "cell_type": "code",
   "execution_count": 73,
   "metadata": {},
   "outputs": [],
   "source": [
    "model_guassianNB = GaussianNB()\n",
    "model_guassianNB.fit(X_train, Y_train)\n",
    "Y_pred_gaussian = model_guassianNB.predict(X_test)"
   ]
  },
  {
   "cell_type": "code",
   "execution_count": 74,
   "metadata": {},
   "outputs": [
    {
     "name": "stdout",
     "output_type": "stream",
     "text": [
      "Accuracy Score:\n",
      "0.5429616087751371\n"
     ]
    }
   ],
   "source": [
    "print (\"Accuracy Score:\")\n",
    "print(accuracy_score(Y_test, Y_pred_gaussian))"
   ]
  },
  {
   "cell_type": "markdown",
   "metadata": {},
   "source": [
    "# Algorithm 5 : knn"
   ]
  },
  {
   "cell_type": "code",
   "execution_count": 75,
   "metadata": {},
   "outputs": [
    {
     "name": "stderr",
     "output_type": "stream",
     "text": [
      "/Users/surya/anaconda3/lib/python3.6/site-packages/sklearn/preprocessing/data.py:625: DataConversionWarning: Data with input dtype int64, float64 were all converted to float64 by StandardScaler.\n",
      "  return self.partial_fit(X, y)\n",
      "/Users/surya/anaconda3/lib/python3.6/site-packages/ipykernel_launcher.py:5: DataConversionWarning: Data with input dtype int64, float64 were all converted to float64 by StandardScaler.\n",
      "  \"\"\"\n",
      "/Users/surya/anaconda3/lib/python3.6/site-packages/ipykernel_launcher.py:6: DataConversionWarning: Data with input dtype int64, float64 were all converted to float64 by StandardScaler.\n",
      "  \n"
     ]
    }
   ],
   "source": [
    "from sklearn.preprocessing import StandardScaler  \n",
    "scaler = StandardScaler()  \n",
    "scaler.fit(X_train)\n",
    "\n",
    "X_train = scaler.transform(X_train)  \n",
    "X_test = scaler.transform(X_test)  "
   ]
  },
  {
   "cell_type": "code",
   "execution_count": 77,
   "metadata": {},
   "outputs": [
    {
     "data": {
      "text/plain": [
       "KNeighborsClassifier(algorithm='auto', leaf_size=30, metric='minkowski',\n",
       "           metric_params=None, n_jobs=None, n_neighbors=5, p=2,\n",
       "           weights='uniform')"
      ]
     },
     "execution_count": 77,
     "metadata": {},
     "output_type": "execute_result"
    }
   ],
   "source": [
    "from sklearn.neighbors import KNeighborsClassifier  \n",
    "classifier = KNeighborsClassifier(n_neighbors=5)  \n",
    "classifier.fit(X_train, Y_train) "
   ]
  },
  {
   "cell_type": "code",
   "execution_count": 78,
   "metadata": {},
   "outputs": [],
   "source": [
    "y_pred = classifier.predict(X_test) "
   ]
  },
  {
   "cell_type": "code",
   "execution_count": 80,
   "metadata": {},
   "outputs": [
    {
     "name": "stdout",
     "output_type": "stream",
     "text": [
      "[[101  65  82]\n",
      " [ 26 386  47]\n",
      " [118 150 119]]\n",
      "              precision    recall  f1-score   support\n",
      "\n",
      "           0       0.41      0.41      0.41       248\n",
      "           1       0.64      0.84      0.73       459\n",
      "           2       0.48      0.31      0.37       387\n",
      "\n",
      "   micro avg       0.55      0.55      0.55      1094\n",
      "   macro avg       0.51      0.52      0.50      1094\n",
      "weighted avg       0.53      0.55      0.53      1094\n",
      "\n"
     ]
    }
   ],
   "source": [
    "from sklearn.metrics import classification_report, confusion_matrix  \n",
    "print(confusion_matrix(Y_test, y_pred))  \n",
    "print(classification_report(Y_test, y_pred))  "
   ]
  },
  {
   "cell_type": "code",
   "execution_count": 82,
   "metadata": {},
   "outputs": [],
   "source": [
    "prediction=classifier.predict(test)"
   ]
  },
  {
   "cell_type": "code",
   "execution_count": 83,
   "metadata": {},
   "outputs": [],
   "source": [
    "i=0\n",
    "pred = []\n",
    "for arr in prediction:\n",
    "    if prediction[i]==0:\n",
    "        pred.append('High')\n",
    "    elif prediction[i]== 1:\n",
    "        pred.append('Low')\n",
    "    elif prediction[i] == 2:\n",
    "        pred.append(\"Medium\")\n",
    "    i = i+1"
   ]
  },
  {
   "cell_type": "code",
   "execution_count": 84,
   "metadata": {},
   "outputs": [],
   "source": [
    "submission = pd.DataFrame(pred,index =test_id)\n",
    "submission.columns = [\"CustomerValue\"]"
   ]
  },
  {
   "cell_type": "code",
   "execution_count": 85,
   "metadata": {},
   "outputs": [
    {
     "data": {
      "text/html": [
       "<div>\n",
       "<style scoped>\n",
       "    .dataframe tbody tr th:only-of-type {\n",
       "        vertical-align: middle;\n",
       "    }\n",
       "\n",
       "    .dataframe tbody tr th {\n",
       "        vertical-align: top;\n",
       "    }\n",
       "\n",
       "    .dataframe thead th {\n",
       "        text-align: right;\n",
       "    }\n",
       "</style>\n",
       "<table border=\"1\" class=\"dataframe\">\n",
       "  <thead>\n",
       "    <tr style=\"text-align: right;\">\n",
       "      <th></th>\n",
       "      <th>CustomerValue</th>\n",
       "    </tr>\n",
       "    <tr>\n",
       "      <th>CustomerId</th>\n",
       "      <th></th>\n",
       "    </tr>\n",
       "  </thead>\n",
       "  <tbody>\n",
       "    <tr>\n",
       "      <th>C21116</th>\n",
       "      <td>Medium</td>\n",
       "    </tr>\n",
       "    <tr>\n",
       "      <th>C21123</th>\n",
       "      <td>Low</td>\n",
       "    </tr>\n",
       "    <tr>\n",
       "      <th>C21126</th>\n",
       "      <td>Low</td>\n",
       "    </tr>\n",
       "    <tr>\n",
       "      <th>C21142</th>\n",
       "      <td>Low</td>\n",
       "    </tr>\n",
       "    <tr>\n",
       "      <th>C21152</th>\n",
       "      <td>Low</td>\n",
       "    </tr>\n",
       "  </tbody>\n",
       "</table>\n",
       "</div>"
      ],
      "text/plain": [
       "           CustomerValue\n",
       "CustomerId              \n",
       "C21116            Medium\n",
       "C21123               Low\n",
       "C21126               Low\n",
       "C21142               Low\n",
       "C21152               Low"
      ]
     },
     "execution_count": 85,
     "metadata": {},
     "output_type": "execute_result"
    }
   ],
   "source": [
    "submission.head()"
   ]
  },
  {
   "cell_type": "code",
   "execution_count": 86,
   "metadata": {},
   "outputs": [],
   "source": [
    "submission.to_csv('SuryaRemanan.csv')"
   ]
  },
  {
   "cell_type": "code",
   "execution_count": null,
   "metadata": {},
   "outputs": [],
   "source": []
  }
 ],
 "metadata": {
  "kernelspec": {
   "display_name": "Python 3",
   "language": "python",
   "name": "python3"
  },
  "language_info": {
   "codemirror_mode": {
    "name": "ipython",
    "version": 3
   },
   "file_extension": ".py",
   "mimetype": "text/x-python",
   "name": "python",
   "nbconvert_exporter": "python",
   "pygments_lexer": "ipython3",
   "version": "3.6.6"
  }
 },
 "nbformat": 4,
 "nbformat_minor": 2
}
